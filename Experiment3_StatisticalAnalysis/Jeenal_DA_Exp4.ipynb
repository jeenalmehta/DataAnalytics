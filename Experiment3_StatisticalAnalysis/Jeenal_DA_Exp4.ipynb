{
  "nbformat": 4,
  "nbformat_minor": 0,
  "metadata": {
    "colab": {
      "provenance": [],
      "collapsed_sections": [],
      "include_colab_link": true
    },
    "kernelspec": {
      "name": "python3",
      "display_name": "Python 3"
    },
    "language_info": {
      "name": "python"
    }
  },
  "cells": [
    {
      "cell_type": "markdown",
      "metadata": {
        "id": "view-in-github",
        "colab_type": "text"
      },
      "source": [
        "<a href=\"https://colab.research.google.com/github/jeenalmehta/DataAnalytics/blob/master/Experiment3_StatisticalAnalysis/Jeenal_DA_Exp4.ipynb\" target=\"_parent\"><img src=\"https://colab.research.google.com/assets/colab-badge.svg\" alt=\"Open In Colab\"/></a>"
      ]
    },
    {
      "cell_type": "markdown",
      "source": [
        "##**Experiment 4** "
      ],
      "metadata": {
        "id": "hD66_lroed-o"
      }
    },
    {
      "cell_type": "markdown",
      "source": [
        "##Objective:\n",
        "Building Linear Regression model for given dataset."
      ],
      "metadata": {
        "id": "GcPk456OeTFc"
      }
    },
    {
      "cell_type": "markdown",
      "source": [
        "##About the dataset:\n",
        "\n",
        "The file climate_change (CSV placed in lab folder) contains climate data from May 1983 to December 2008. "
      ],
      "metadata": {
        "id": "XgSOfMZQe7ys"
      }
    },
    {
      "cell_type": "code",
      "source": [
        "import numpy as np\n",
        "import pandas as pd\n",
        "import matplotlib\n",
        "%matplotlib inline\n",
        "import seaborn as sns\n",
        "matplotlib.style.use('seaborn')\n",
        "import matplotlib.pyplot as plt\n",
        "from sklearn.model_selection import train_test_split"
      ],
      "metadata": {
        "id": "9PkaPhhNWeZt"
      },
      "execution_count": null,
      "outputs": []
    },
    {
      "cell_type": "code",
      "source": [
        "df = pd.read_csv('climate_change.csv', sep=',')"
      ],
      "metadata": {
        "id": "b80edcnJWnOq"
      },
      "execution_count": null,
      "outputs": []
    },
    {
      "cell_type": "code",
      "source": [
        "df.info()"
      ],
      "metadata": {
        "colab": {
          "base_uri": "https://localhost:8080/"
        },
        "id": "7zhILRG0XCMZ",
        "outputId": "54687de5-d105-46bc-dcbd-96f4cc858536"
      },
      "execution_count": null,
      "outputs": [
        {
          "output_type": "stream",
          "name": "stdout",
          "text": [
            "<class 'pandas.core.frame.DataFrame'>\n",
            "RangeIndex: 308 entries, 0 to 307\n",
            "Data columns (total 11 columns):\n",
            " #   Column    Non-Null Count  Dtype  \n",
            "---  ------    --------------  -----  \n",
            " 0   Year      308 non-null    int64  \n",
            " 1   Month     308 non-null    int64  \n",
            " 2   MEI       308 non-null    float64\n",
            " 3   CO2       308 non-null    float64\n",
            " 4   CH4       308 non-null    float64\n",
            " 5   N2O       308 non-null    float64\n",
            " 6   CFC-11    308 non-null    float64\n",
            " 7   CFC-12    308 non-null    float64\n",
            " 8   TSI       308 non-null    float64\n",
            " 9   Aerosols  308 non-null    float64\n",
            " 10  Temp      308 non-null    float64\n",
            "dtypes: float64(9), int64(2)\n",
            "memory usage: 26.6 KB\n"
          ]
        }
      ]
    },
    {
      "cell_type": "code",
      "source": [
        "df.describe()"
      ],
      "metadata": {
        "colab": {
          "base_uri": "https://localhost:8080/",
          "height": 300
        },
        "id": "-8dgMtZBXIcO",
        "outputId": "deba55e9-9af4-4379-d859-3d698b9240fa"
      },
      "execution_count": null,
      "outputs": [
        {
          "output_type": "execute_result",
          "data": {
            "text/plain": [
              "              Year       Month         MEI         CO2          CH4  \\\n",
              "count   308.000000  308.000000  308.000000  308.000000   308.000000   \n",
              "mean   1995.662338    6.551948    0.275555  363.226753  1749.824513   \n",
              "std       7.423197    3.447214    0.937918   12.647125    46.051678   \n",
              "min    1983.000000    1.000000   -1.635000  340.170000  1629.890000   \n",
              "25%    1989.000000    4.000000   -0.398750  353.020000  1722.182500   \n",
              "50%    1996.000000    7.000000    0.237500  361.735000  1764.040000   \n",
              "75%    2002.000000   10.000000    0.830500  373.455000  1786.885000   \n",
              "max    2008.000000   12.000000    3.001000  388.500000  1814.180000   \n",
              "\n",
              "              N2O      CFC-11      CFC-12          TSI    Aerosols        Temp  \n",
              "count  308.000000  308.000000  308.000000   308.000000  308.000000  308.000000  \n",
              "mean   312.391834  251.973068  497.524782  1366.070759    0.016657    0.256776  \n",
              "std      5.225131   20.231783   57.826899     0.399610    0.029050    0.179090  \n",
              "min    303.677000  191.324000  350.113000  1365.426100    0.001600   -0.282000  \n",
              "25%    308.111500  246.295500  472.410750  1365.717050    0.002800    0.121750  \n",
              "50%    311.507000  258.344000  528.356000  1365.980900    0.005750    0.248000  \n",
              "75%    316.979000  267.031000  540.524250  1366.363250    0.012600    0.407250  \n",
              "max    322.182000  271.494000  543.813000  1367.316200    0.149400    0.739000  "
            ],
            "text/html": [
              "\n",
              "  <div id=\"df-709b1025-87fd-4844-936d-2b3a3dfd4c9b\">\n",
              "    <div class=\"colab-df-container\">\n",
              "      <div>\n",
              "<style scoped>\n",
              "    .dataframe tbody tr th:only-of-type {\n",
              "        vertical-align: middle;\n",
              "    }\n",
              "\n",
              "    .dataframe tbody tr th {\n",
              "        vertical-align: top;\n",
              "    }\n",
              "\n",
              "    .dataframe thead th {\n",
              "        text-align: right;\n",
              "    }\n",
              "</style>\n",
              "<table border=\"1\" class=\"dataframe\">\n",
              "  <thead>\n",
              "    <tr style=\"text-align: right;\">\n",
              "      <th></th>\n",
              "      <th>Year</th>\n",
              "      <th>Month</th>\n",
              "      <th>MEI</th>\n",
              "      <th>CO2</th>\n",
              "      <th>CH4</th>\n",
              "      <th>N2O</th>\n",
              "      <th>CFC-11</th>\n",
              "      <th>CFC-12</th>\n",
              "      <th>TSI</th>\n",
              "      <th>Aerosols</th>\n",
              "      <th>Temp</th>\n",
              "    </tr>\n",
              "  </thead>\n",
              "  <tbody>\n",
              "    <tr>\n",
              "      <th>count</th>\n",
              "      <td>308.000000</td>\n",
              "      <td>308.000000</td>\n",
              "      <td>308.000000</td>\n",
              "      <td>308.000000</td>\n",
              "      <td>308.000000</td>\n",
              "      <td>308.000000</td>\n",
              "      <td>308.000000</td>\n",
              "      <td>308.000000</td>\n",
              "      <td>308.000000</td>\n",
              "      <td>308.000000</td>\n",
              "      <td>308.000000</td>\n",
              "    </tr>\n",
              "    <tr>\n",
              "      <th>mean</th>\n",
              "      <td>1995.662338</td>\n",
              "      <td>6.551948</td>\n",
              "      <td>0.275555</td>\n",
              "      <td>363.226753</td>\n",
              "      <td>1749.824513</td>\n",
              "      <td>312.391834</td>\n",
              "      <td>251.973068</td>\n",
              "      <td>497.524782</td>\n",
              "      <td>1366.070759</td>\n",
              "      <td>0.016657</td>\n",
              "      <td>0.256776</td>\n",
              "    </tr>\n",
              "    <tr>\n",
              "      <th>std</th>\n",
              "      <td>7.423197</td>\n",
              "      <td>3.447214</td>\n",
              "      <td>0.937918</td>\n",
              "      <td>12.647125</td>\n",
              "      <td>46.051678</td>\n",
              "      <td>5.225131</td>\n",
              "      <td>20.231783</td>\n",
              "      <td>57.826899</td>\n",
              "      <td>0.399610</td>\n",
              "      <td>0.029050</td>\n",
              "      <td>0.179090</td>\n",
              "    </tr>\n",
              "    <tr>\n",
              "      <th>min</th>\n",
              "      <td>1983.000000</td>\n",
              "      <td>1.000000</td>\n",
              "      <td>-1.635000</td>\n",
              "      <td>340.170000</td>\n",
              "      <td>1629.890000</td>\n",
              "      <td>303.677000</td>\n",
              "      <td>191.324000</td>\n",
              "      <td>350.113000</td>\n",
              "      <td>1365.426100</td>\n",
              "      <td>0.001600</td>\n",
              "      <td>-0.282000</td>\n",
              "    </tr>\n",
              "    <tr>\n",
              "      <th>25%</th>\n",
              "      <td>1989.000000</td>\n",
              "      <td>4.000000</td>\n",
              "      <td>-0.398750</td>\n",
              "      <td>353.020000</td>\n",
              "      <td>1722.182500</td>\n",
              "      <td>308.111500</td>\n",
              "      <td>246.295500</td>\n",
              "      <td>472.410750</td>\n",
              "      <td>1365.717050</td>\n",
              "      <td>0.002800</td>\n",
              "      <td>0.121750</td>\n",
              "    </tr>\n",
              "    <tr>\n",
              "      <th>50%</th>\n",
              "      <td>1996.000000</td>\n",
              "      <td>7.000000</td>\n",
              "      <td>0.237500</td>\n",
              "      <td>361.735000</td>\n",
              "      <td>1764.040000</td>\n",
              "      <td>311.507000</td>\n",
              "      <td>258.344000</td>\n",
              "      <td>528.356000</td>\n",
              "      <td>1365.980900</td>\n",
              "      <td>0.005750</td>\n",
              "      <td>0.248000</td>\n",
              "    </tr>\n",
              "    <tr>\n",
              "      <th>75%</th>\n",
              "      <td>2002.000000</td>\n",
              "      <td>10.000000</td>\n",
              "      <td>0.830500</td>\n",
              "      <td>373.455000</td>\n",
              "      <td>1786.885000</td>\n",
              "      <td>316.979000</td>\n",
              "      <td>267.031000</td>\n",
              "      <td>540.524250</td>\n",
              "      <td>1366.363250</td>\n",
              "      <td>0.012600</td>\n",
              "      <td>0.407250</td>\n",
              "    </tr>\n",
              "    <tr>\n",
              "      <th>max</th>\n",
              "      <td>2008.000000</td>\n",
              "      <td>12.000000</td>\n",
              "      <td>3.001000</td>\n",
              "      <td>388.500000</td>\n",
              "      <td>1814.180000</td>\n",
              "      <td>322.182000</td>\n",
              "      <td>271.494000</td>\n",
              "      <td>543.813000</td>\n",
              "      <td>1367.316200</td>\n",
              "      <td>0.149400</td>\n",
              "      <td>0.739000</td>\n",
              "    </tr>\n",
              "  </tbody>\n",
              "</table>\n",
              "</div>\n",
              "      <button class=\"colab-df-convert\" onclick=\"convertToInteractive('df-709b1025-87fd-4844-936d-2b3a3dfd4c9b')\"\n",
              "              title=\"Convert this dataframe to an interactive table.\"\n",
              "              style=\"display:none;\">\n",
              "        \n",
              "  <svg xmlns=\"http://www.w3.org/2000/svg\" height=\"24px\"viewBox=\"0 0 24 24\"\n",
              "       width=\"24px\">\n",
              "    <path d=\"M0 0h24v24H0V0z\" fill=\"none\"/>\n",
              "    <path d=\"M18.56 5.44l.94 2.06.94-2.06 2.06-.94-2.06-.94-.94-2.06-.94 2.06-2.06.94zm-11 1L8.5 8.5l.94-2.06 2.06-.94-2.06-.94L8.5 2.5l-.94 2.06-2.06.94zm10 10l.94 2.06.94-2.06 2.06-.94-2.06-.94-.94-2.06-.94 2.06-2.06.94z\"/><path d=\"M17.41 7.96l-1.37-1.37c-.4-.4-.92-.59-1.43-.59-.52 0-1.04.2-1.43.59L10.3 9.45l-7.72 7.72c-.78.78-.78 2.05 0 2.83L4 21.41c.39.39.9.59 1.41.59.51 0 1.02-.2 1.41-.59l7.78-7.78 2.81-2.81c.8-.78.8-2.07 0-2.86zM5.41 20L4 18.59l7.72-7.72 1.47 1.35L5.41 20z\"/>\n",
              "  </svg>\n",
              "      </button>\n",
              "      \n",
              "  <style>\n",
              "    .colab-df-container {\n",
              "      display:flex;\n",
              "      flex-wrap:wrap;\n",
              "      gap: 12px;\n",
              "    }\n",
              "\n",
              "    .colab-df-convert {\n",
              "      background-color: #E8F0FE;\n",
              "      border: none;\n",
              "      border-radius: 50%;\n",
              "      cursor: pointer;\n",
              "      display: none;\n",
              "      fill: #1967D2;\n",
              "      height: 32px;\n",
              "      padding: 0 0 0 0;\n",
              "      width: 32px;\n",
              "    }\n",
              "\n",
              "    .colab-df-convert:hover {\n",
              "      background-color: #E2EBFA;\n",
              "      box-shadow: 0px 1px 2px rgba(60, 64, 67, 0.3), 0px 1px 3px 1px rgba(60, 64, 67, 0.15);\n",
              "      fill: #174EA6;\n",
              "    }\n",
              "\n",
              "    [theme=dark] .colab-df-convert {\n",
              "      background-color: #3B4455;\n",
              "      fill: #D2E3FC;\n",
              "    }\n",
              "\n",
              "    [theme=dark] .colab-df-convert:hover {\n",
              "      background-color: #434B5C;\n",
              "      box-shadow: 0px 1px 3px 1px rgba(0, 0, 0, 0.15);\n",
              "      filter: drop-shadow(0px 1px 2px rgba(0, 0, 0, 0.3));\n",
              "      fill: #FFFFFF;\n",
              "    }\n",
              "  </style>\n",
              "\n",
              "      <script>\n",
              "        const buttonEl =\n",
              "          document.querySelector('#df-709b1025-87fd-4844-936d-2b3a3dfd4c9b button.colab-df-convert');\n",
              "        buttonEl.style.display =\n",
              "          google.colab.kernel.accessAllowed ? 'block' : 'none';\n",
              "\n",
              "        async function convertToInteractive(key) {\n",
              "          const element = document.querySelector('#df-709b1025-87fd-4844-936d-2b3a3dfd4c9b');\n",
              "          const dataTable =\n",
              "            await google.colab.kernel.invokeFunction('convertToInteractive',\n",
              "                                                     [key], {});\n",
              "          if (!dataTable) return;\n",
              "\n",
              "          const docLinkHtml = 'Like what you see? Visit the ' +\n",
              "            '<a target=\"_blank\" href=https://colab.research.google.com/notebooks/data_table.ipynb>data table notebook</a>'\n",
              "            + ' to learn more about interactive tables.';\n",
              "          element.innerHTML = '';\n",
              "          dataTable['output_type'] = 'display_data';\n",
              "          await google.colab.output.renderOutput(dataTable, element);\n",
              "          const docLink = document.createElement('div');\n",
              "          docLink.innerHTML = docLinkHtml;\n",
              "          element.appendChild(docLink);\n",
              "        }\n",
              "      </script>\n",
              "    </div>\n",
              "  </div>\n",
              "  "
            ]
          },
          "metadata": {},
          "execution_count": 6
        }
      ]
    },
    {
      "cell_type": "code",
      "source": [
        "X = df.iloc[:,3]\n",
        "Y = df.iloc[:,10]\n",
        "\n",
        "plt.scatter(X, Y)"
      ],
      "metadata": {
        "colab": {
          "base_uri": "https://localhost:8080/",
          "height": 364
        },
        "id": "28EdN_r-XZJv",
        "outputId": "a0e5b389-a812-411b-fe59-6fc18401de6e"
      },
      "execution_count": null,
      "outputs": [
        {
          "output_type": "execute_result",
          "data": {
            "text/plain": [
              "<matplotlib.collections.PathCollection at 0x7fe6641bcf50>"
            ]
          },
          "metadata": {},
          "execution_count": 8
        },
        {
          "output_type": "display_data",
          "data": {
            "text/plain": [
              "<Figure size 576x396 with 1 Axes>"
            ],
            "image/png": "[encoded data removed]"
          },
          "metadata": {}
        }
      ]
    },
    {
      "cell_type": "code",
      "source": [
        "# plotting correlation heatmap\n",
        "dfplot = sns.heatmap(df.corr(), cmap=\"YlGnBu\", annot=True)\n",
        "# sns.set(rc={'figure.figsize':(107,80.27)})\n",
        "# displaying heatmap\n",
        "plt.show()"
      ],
      "metadata": {
        "colab": {
          "base_uri": "https://localhost:8080/",
          "height": 380
        },
        "id": "dT8CqHfVXKvo",
        "outputId": "0dd1d186-adfd-406c-de6e-0c7640e53a53"
      },
      "execution_count": null,
      "outputs": [
        {
          "output_type": "display_data",
          "data": {
            "text/plain": [
              "<Figure size 576x396 with 2 Axes>"
            ],
            "image/png": "[encoded data removed]"
          },
          "metadata": {}
        }
      ]
    },
    {
      "cell_type": "code",
      "source": [
        "from sklearn.linear_model import LinearRegression\n",
        "from sklearn.metrics import mean_absolute_error ,mean_squared_error, median_absolute_error,confusion_matrix,accuracy_score,r2_score\n",
        "reg=LinearRegression(fit_intercept=True,normalize=True,copy_X=True, n_jobs=10)"
      ],
      "metadata": {
        "id": "ZuH_cmROXQ1u"
      },
      "execution_count": null,
      "outputs": []
    },
    {
      "cell_type": "code",
      "source": [
        "X = df.drop('Temp' , axis=1)\n",
        "y = df['Temp']\n",
        "\n",
        "X_train,X_test,y_train,y_test = train_test_split(X,y,random_state=0,test_size=0.2)"
      ],
      "metadata": {
        "id": "hTvHcWI_YPiK"
      },
      "execution_count": null,
      "outputs": []
    },
    {
      "cell_type": "code",
      "source": [
        "cols = ['CFC-12', 'CFC-11', 'TSI', 'MEI', 'Aerosols']\n",
        "reg.fit(X_train[cols],y_train)\n",
        "y_pred = reg.predict(X_test[cols])"
      ],
      "metadata": {
        "colab": {
          "base_uri": "https://localhost:8080/"
        },
        "id": "0VzRoPKZYSUN",
        "outputId": "a4086111-616e-408d-f29f-9829dec3cabd"
      },
      "execution_count": null,
      "outputs": [
        {
          "output_type": "stream",
          "name": "stderr",
          "text": [
            "/usr/local/lib/python3.7/dist-packages/sklearn/linear_model/_base.py:145: FutureWarning: 'normalize' was deprecated in version 1.0 and will be removed in 1.2.\n",
            "If you wish to scale the data, use Pipeline with a StandardScaler in a preprocessing stage. To reproduce the previous behavior:\n",
            "\n",
            "from sklearn.pipeline import make_pipeline\n",
            "\n",
            "model = make_pipeline(StandardScaler(with_mean=False), LinearRegression())\n",
            "\n",
            "If you wish to pass a sample_weight parameter, you need to pass it as a fit parameter to each step of the pipeline as follows:\n",
            "\n",
            "kwargs = {s[0] + '__sample_weight': sample_weight for s in model.steps}\n",
            "model.fit(X, y, **kwargs)\n",
            "\n",
            "\n",
            "  FutureWarning,\n"
          ]
        }
      ]
    },
    {
      "cell_type": "code",
      "source": [
        "reg.score(X_train[cols], y_train)"
      ],
      "metadata": {
        "colab": {
          "base_uri": "https://localhost:8080/"
        },
        "id": "hu9u70FDYrsV",
        "outputId": "468cf8a0-5059-48a3-e124-7181b8747e82"
      },
      "execution_count": null,
      "outputs": [
        {
          "output_type": "execute_result",
          "data": {
            "text/plain": [
              "0.7375243178789528"
            ]
          },
          "metadata": {},
          "execution_count": 14
        }
      ]
    },
    {
      "cell_type": "code",
      "source": [
        "r2_score(y_test, y_pred)"
      ],
      "metadata": {
        "colab": {
          "base_uri": "https://localhost:8080/"
        },
        "id": "7UXRVFdMYu18",
        "outputId": "61b5cd59-0f82-49fe-941a-bd2c6fd46129"
      },
      "execution_count": null,
      "outputs": [
        {
          "output_type": "execute_result",
          "data": {
            "text/plain": [
              "0.7289331723573503"
            ]
          },
          "metadata": {},
          "execution_count": 15
        }
      ]
    },
    {
      "cell_type": "markdown",
      "source": [
        "## Problem 1.1:\n",
        "\n",
        "The model R2 (the \"Multiple R-squared\" value) = 0.7289"
      ],
      "metadata": {
        "id": "kXeBO23WZTg0"
      }
    },
    {
      "cell_type": "code",
      "source": [
        "from scipy import stats\n",
        "\n",
        "CATEGORICAL_VARIABLES = ['MEI', 'CO2', 'CH4', 'N2O', 'CFC-11', 'CFC-12', 'TSI', 'Aerosols']\n",
        "for i in CATEGORICAL_VARIABLES:\n",
        "  correlation = stats.pointbiserialr(df[i], df[\"Temp\"])\n",
        "  print(i, correlation)"
      ],
      "metadata": {
        "colab": {
          "base_uri": "https://localhost:8080/"
        },
        "id": "EgL7K6AtZi8q",
        "outputId": "9e5941ed-7b02-405a-95e6-d71ab1df7bdc"
      },
      "execution_count": null,
      "outputs": [
        {
          "output_type": "stream",
          "name": "stdout",
          "text": [
            "MEI PointbiserialrResult(correlation=0.13529168433351066, pvalue=0.017518659805993233)\n",
            "CO2 PointbiserialrResult(correlation=0.7485046457380211, pvalue=1.557880415620173e-56)\n",
            "CH4 PointbiserialrResult(correlation=0.6996965803638929, pvalue=1.3362989047670364e-46)\n",
            "N2O PointbiserialrResult(correlation=0.7432418337360966, pvalue=2.3517474412415498e-55)\n",
            "CFC-11 PointbiserialrResult(correlation=0.3801113416532199, pvalue=5.031362179050227e-12)\n",
            "CFC-12 PointbiserialrResult(correlation=0.6889441088656743, pvalue=1.1179206572557341e-44)\n",
            "TSI PointbiserialrResult(correlation=0.18218560682875684, pvalue=0.0013215404069405788)\n",
            "Aerosols PointbiserialrResult(correlation=-0.392069446275214, pvalue=9.283071094401667e-13)\n"
          ]
        }
      ]
    },
    {
      "cell_type": "markdown",
      "source": [
        "It was seen that the variables 'CFC_12', 'Aerosols', 'CFC_11', 'MEI', 'TSI' are significant in the model i.e. their p-value is below 0.05"
      ],
      "metadata": {
        "id": "zqdntlyOZptf"
      }
    },
    {
      "cell_type": "code",
      "source": [
        "print(\"Co-efficient: \", reg.coef_)\n",
        "print(\"Intercept: \",reg.intercept_)"
      ],
      "metadata": {
        "colab": {
          "base_uri": "https://localhost:8080/"
        },
        "id": "tAFgY48GY0vG",
        "outputId": "2e9ec071-1571-4307-c834-98649840511f"
      },
      "execution_count": null,
      "outputs": [
        {
          "output_type": "stream",
          "name": "stdout",
          "text": [
            "Co-efficient:  [ 0.00380875 -0.00630687  0.09391288  0.06927627 -1.66581496]\n",
            "Intercept:  -128.3295555498545\n"
          ]
        }
      ]
    },
    {
      "cell_type": "code",
      "source": [
        "y_pred_LR=reg.predict(X_test[cols])\n",
        "print(\" The Score Linear Regression \" ,r2_score(y_test,y_pred_LR)*100)"
      ],
      "metadata": {
        "colab": {
          "base_uri": "https://localhost:8080/"
        },
        "id": "5WsiCi2DY25p",
        "outputId": "38d7630f-3ecf-4751-8666-18634ec7f88e"
      },
      "execution_count": null,
      "outputs": [
        {
          "output_type": "stream",
          "name": "stdout",
          "text": [
            " The Score Linear Regression  72.89331723573504\n"
          ]
        }
      ]
    },
    {
      "cell_type": "code",
      "source": [
        "dft = df[(np.abs(stats.zscore(df)) < 3).all(axis=1)]\n",
        "variables = ['Aerosols', 'N2O', 'MEI', 'TSI']\n",
        "X_train, X_test, y_train, y_test = train_test_split(dft[variables], dft['Temp'], test_size=0.2, random_state=42)\n",
        "LinearRegression_model=LinearRegression(fit_intercept=True,normalize=True,copy_X=True, n_jobs=10)\n",
        "LR = LinearRegression_model.fit(X_train[variables],y_train)"
      ],
      "metadata": {
        "colab": {
          "base_uri": "https://localhost:8080/"
        },
        "id": "WI2v6abIaVmW",
        "outputId": "2ecbd7b7-9f5d-46c2-ccb2-65102360e96c"
      },
      "execution_count": null,
      "outputs": [
        {
          "output_type": "stream",
          "name": "stderr",
          "text": [
            "/usr/local/lib/python3.7/dist-packages/sklearn/linear_model/_base.py:145: FutureWarning: 'normalize' was deprecated in version 1.0 and will be removed in 1.2.\n",
            "If you wish to scale the data, use Pipeline with a StandardScaler in a preprocessing stage. To reproduce the previous behavior:\n",
            "\n",
            "from sklearn.pipeline import make_pipeline\n",
            "\n",
            "model = make_pipeline(StandardScaler(with_mean=False), LinearRegression())\n",
            "\n",
            "If you wish to pass a sample_weight parameter, you need to pass it as a fit parameter to each step of the pipeline as follows:\n",
            "\n",
            "kwargs = {s[0] + '__sample_weight': sample_weight for s in model.steps}\n",
            "model.fit(X, y, **kwargs)\n",
            "\n",
            "\n",
            "  FutureWarning,\n"
          ]
        }
      ]
    },
    {
      "cell_type": "code",
      "source": [
        "print(\"Co-efficient: \", LR.coef_)\n",
        "print(\"Intercept: \",LR.intercept_)"
      ],
      "metadata": {
        "colab": {
          "base_uri": "https://localhost:8080/"
        },
        "id": "rJgcZmjbaWU-",
        "outputId": "6015d5b6-cbe7-4592-ab27-211ca33ffa72"
      },
      "execution_count": null,
      "outputs": [
        {
          "output_type": "stream",
          "name": "stdout",
          "text": [
            "Co-efficient:  [-2.18371947  0.02399865  0.06611947  0.07758969]\n",
            "Intercept:  -113.21600162171521\n"
          ]
        }
      ]
    },
    {
      "cell_type": "code",
      "source": [
        "y_pred_LR=LinearRegression_model.predict(X_test[variables])\n",
        "print(\" The Score Linear Regression \" ,r2_score(y_test,y_pred_LR)*100)\n"
      ],
      "metadata": {
        "colab": {
          "base_uri": "https://localhost:8080/"
        },
        "id": "TZSbSnlzacCi",
        "outputId": "cbb9c751-9dbf-4607-af1c-6e21875ea092"
      },
      "execution_count": null,
      "outputs": [
        {
          "output_type": "stream",
          "name": "stdout",
          "text": [
            " The Score Linear Regression  63.38409995422527\n"
          ]
        }
      ]
    },
    {
      "cell_type": "markdown",
      "source": [
        "##Problem 2.1\n",
        "\n",
        "All of the gas concentration variables reflect human development - N2O and CFC.11 are correlated with other variables in the data set. To verify this, I experimented with removing/adding some of the variables and found that the coefficient values varied, showing that it was dependent on the coefficient values of other variables. The variables CO2, CH4, CFC_12 and Temp are having high correlation with N20 (absolute correlation greater than 0.7) The variables CH4, CFC_12 are having high correlation with CFC_11 (absolute correlation greater than 0.7)"
      ],
      "metadata": {
        "id": "xxIVlOqOaufw"
      }
    },
    {
      "cell_type": "code",
      "source": [],
      "metadata": {
        "id": "NTvjk6-gafQx"
      },
      "execution_count": null,
      "outputs": []
    },
    {
      "cell_type": "markdown",
      "source": [
        "## Problem 3\n",
        "\n",
        "The coefficient of N2O in this reduced model is 0.02399865. The r2 value obtained by this model is 0.6338 which is quiet low. Also, the previous model had no N2O variable as its independent variable."
      ],
      "metadata": {
        "id": "8mlHsrrhbDQG"
      }
    }
  ]
}