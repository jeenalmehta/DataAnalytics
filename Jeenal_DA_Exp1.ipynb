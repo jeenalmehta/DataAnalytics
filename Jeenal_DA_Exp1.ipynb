{
  "nbformat": 4,
  "nbformat_minor": 0,
  "metadata": {
    "colab": {
      "provenance": [],
      "authorship_tag": "ABX9TyOLjR2JH457txxdMeOimwUE",
      "include_colab_link": true
    },
    "kernelspec": {
      "name": "python3",
      "display_name": "Python 3"
    },
    "language_info": {
      "name": "python"
    }
  },
  "cells": [
    {
      "cell_type": "markdown",
      "metadata": {
        "id": "view-in-github",
        "colab_type": "text"
      },
      "source": [
        "<a href=\"https://colab.research.google.com/github/jeenalmehta/MyProject/blob/master/Jeenal_DA_Exp1.ipynb\" target=\"_parent\"><img src=\"https://colab.research.google.com/assets/colab-badge.svg\" alt=\"Open In Colab\"/></a>"
      ]
    },
    {
      "cell_type": "code",
      "execution_count": 1,
      "metadata": {
        "id": "T8cZT4tMwjHv"
      },
      "outputs": [],
      "source": [
        "# Importing required libraries\n",
        "\n",
        "import pandas as pd\n",
        "import numpy as np\n",
        "\n",
        "#using seaborn library for visualisation\n",
        "import seaborn as sns \n",
        "\n",
        "#library for visualisation\n",
        "import matplotlib.pyplot as plt \n",
        "from matplotlib import pyplot as plt\n",
        "\n",
        "%matplotlib inline \n",
        "sns.set(color_codes=True)"
      ]
    },
    {
      "cell_type": "code",
      "source": [
        "#loading data\n",
        "df = pd.read_csv(\"HT_2013-2020.csv\") "
      ],
      "metadata": {
        "id": "s1dtZy_zvPdy"
      },
      "execution_count": 6,
      "outputs": []
    },
    {
      "cell_type": "code",
      "source": [
        "#displaying top 5 rows\n",
        "df.head(5)  "
      ],
      "metadata": {
        "colab": {
          "base_uri": "https://localhost:8080/",
          "height": 392
        },
        "id": "UZy97f86xtVf",
        "outputId": "ba98c88e-6ffa-4106-a935-f1f6f157216f"
      },
      "execution_count": 7,
      "outputs": [
        {
          "output_type": "execute_result",
          "data": {
            "text/plain": [
              "   DATA_YEAR        ORI                           PUB_AGENCY_NAME  \\\n",
              "0       2016  MO0480600                              Independence   \n",
              "1       2016  TX2201200                                Fort Worth   \n",
              "2       2016  TX2270100                                    Austin   \n",
              "3       2019  NV0020100  Las Vegas Metropolitan Police Department   \n",
              "4       2017  AZ0070500                                  Chandler   \n",
              "\n",
              "  PUB_AGENCY_UNIT AGENCY_TYPE_NAME STATE_ABBR STATE_NAME       DIVISION_NAME  \\\n",
              "0             NaN             City         MO   Missouri  West North Central   \n",
              "1             NaN             City         TX      Texas  West South Central   \n",
              "2             NaN             City         TX      Texas  West South Central   \n",
              "3             NaN             City         NV     Nevada            Mountain   \n",
              "4             NaN             City         AZ    Arizona            Mountain   \n",
              "\n",
              "               COUNTY_NAME REGION_NAME POPULATION_GROUP_CODE  \\\n",
              "0                  JACKSON     Midwest                     2   \n",
              "1  PARKER; DENTON; TARRANT       South                    1B   \n",
              "2       WILLIAMSON; TRAVIS       South                    1B   \n",
              "3                    CLARK        West                    1A   \n",
              "4                 MARICOPA        West                     2   \n",
              "\n",
              "              POPULATION_GROUP_DESC  OFFENSE_SUBCAT_ID       OFFENSE_NAME  \\\n",
              "0  Cities from 100,000 thru 249,999                 81  Human Trafficking   \n",
              "1  Cities from 500,000 thru 999,999                 82  Human Trafficking   \n",
              "2  Cities from 500,000 thru 999,999                 82  Human Trafficking   \n",
              "3          Cities 1,000,000 or over                 81  Human Trafficking   \n",
              "4  Cities from 100,000 thru 249,999                 81  Human Trafficking   \n",
              "\n",
              "     OFFENSE_SUBCAT_NAME  ACTUAL_COUNT  UNFOUNDED_COUNT  CLEARED_COUNT  \\\n",
              "0    Commercial Sex Acts             2                0              2   \n",
              "1  Involuntary Servitude             1                0              0   \n",
              "2  Involuntary Servitude             2                0              0   \n",
              "3    Commercial Sex Acts            15                0              4   \n",
              "4    Commercial Sex Acts             1                0              0   \n",
              "\n",
              "   JUVENILE_CLEARED_COUNT  \n",
              "0                       0  \n",
              "1                       0  \n",
              "2                       0  \n",
              "3                       0  \n",
              "4                       0  "
            ],
            "text/html": [
              "\n",
              "  <div id=\"df-a87eaac4-2bd1-441a-82ad-f8f0f0980ae8\">\n",
              "    <div class=\"colab-df-container\">\n",
              "      <div>\n",
              "<style scoped>\n",
              "    .dataframe tbody tr th:only-of-type {\n",
              "        vertical-align: middle;\n",
              "    }\n",
              "\n",
              "    .dataframe tbody tr th {\n",
              "        vertical-align: top;\n",
              "    }\n",
              "\n",
              "    .dataframe thead th {\n",
              "        text-align: right;\n",
              "    }\n",
              "</style>\n",
              "<table border=\"1\" class=\"dataframe\">\n",
              "  <thead>\n",
              "    <tr style=\"text-align: right;\">\n",
              "      <th></th>\n",
              "      <th>DATA_YEAR</th>\n",
              "      <th>ORI</th>\n",
              "      <th>PUB_AGENCY_NAME</th>\n",
              "      <th>PUB_AGENCY_UNIT</th>\n",
              "      <th>AGENCY_TYPE_NAME</th>\n",
              "      <th>STATE_ABBR</th>\n",
              "      <th>STATE_NAME</th>\n",
              "      <th>DIVISION_NAME</th>\n",
              "      <th>COUNTY_NAME</th>\n",
              "      <th>REGION_NAME</th>\n",
              "      <th>POPULATION_GROUP_CODE</th>\n",
              "      <th>POPULATION_GROUP_DESC</th>\n",
              "      <th>OFFENSE_SUBCAT_ID</th>\n",
              "      <th>OFFENSE_NAME</th>\n",
              "      <th>OFFENSE_SUBCAT_NAME</th>\n",
              "      <th>ACTUAL_COUNT</th>\n",
              "      <th>UNFOUNDED_COUNT</th>\n",
              "      <th>CLEARED_COUNT</th>\n",
              "      <th>JUVENILE_CLEARED_COUNT</th>\n",
              "    </tr>\n",
              "  </thead>\n",
              "  <tbody>\n",
              "    <tr>\n",
              "      <th>0</th>\n",
              "      <td>2016</td>\n",
              "      <td>MO0480600</td>\n",
              "      <td>Independence</td>\n",
              "      <td>NaN</td>\n",
              "      <td>City</td>\n",
              "      <td>MO</td>\n",
              "      <td>Missouri</td>\n",
              "      <td>West North Central</td>\n",
              "      <td>JACKSON</td>\n",
              "      <td>Midwest</td>\n",
              "      <td>2</td>\n",
              "      <td>Cities from 100,000 thru 249,999</td>\n",
              "      <td>81</td>\n",
              "      <td>Human Trafficking</td>\n",
              "      <td>Commercial Sex Acts</td>\n",
              "      <td>2</td>\n",
              "      <td>0</td>\n",
              "      <td>2</td>\n",
              "      <td>0</td>\n",
              "    </tr>\n",
              "    <tr>\n",
              "      <th>1</th>\n",
              "      <td>2016</td>\n",
              "      <td>TX2201200</td>\n",
              "      <td>Fort Worth</td>\n",
              "      <td>NaN</td>\n",
              "      <td>City</td>\n",
              "      <td>TX</td>\n",
              "      <td>Texas</td>\n",
              "      <td>West South Central</td>\n",
              "      <td>PARKER; DENTON; TARRANT</td>\n",
              "      <td>South</td>\n",
              "      <td>1B</td>\n",
              "      <td>Cities from 500,000 thru 999,999</td>\n",
              "      <td>82</td>\n",
              "      <td>Human Trafficking</td>\n",
              "      <td>Involuntary Servitude</td>\n",
              "      <td>1</td>\n",
              "      <td>0</td>\n",
              "      <td>0</td>\n",
              "      <td>0</td>\n",
              "    </tr>\n",
              "    <tr>\n",
              "      <th>2</th>\n",
              "      <td>2016</td>\n",
              "      <td>TX2270100</td>\n",
              "      <td>Austin</td>\n",
              "      <td>NaN</td>\n",
              "      <td>City</td>\n",
              "      <td>TX</td>\n",
              "      <td>Texas</td>\n",
              "      <td>West South Central</td>\n",
              "      <td>WILLIAMSON; TRAVIS</td>\n",
              "      <td>South</td>\n",
              "      <td>1B</td>\n",
              "      <td>Cities from 500,000 thru 999,999</td>\n",
              "      <td>82</td>\n",
              "      <td>Human Trafficking</td>\n",
              "      <td>Involuntary Servitude</td>\n",
              "      <td>2</td>\n",
              "      <td>0</td>\n",
              "      <td>0</td>\n",
              "      <td>0</td>\n",
              "    </tr>\n",
              "    <tr>\n",
              "      <th>3</th>\n",
              "      <td>2019</td>\n",
              "      <td>NV0020100</td>\n",
              "      <td>Las Vegas Metropolitan Police Department</td>\n",
              "      <td>NaN</td>\n",
              "      <td>City</td>\n",
              "      <td>NV</td>\n",
              "      <td>Nevada</td>\n",
              "      <td>Mountain</td>\n",
              "      <td>CLARK</td>\n",
              "      <td>West</td>\n",
              "      <td>1A</td>\n",
              "      <td>Cities 1,000,000 or over</td>\n",
              "      <td>81</td>\n",
              "      <td>Human Trafficking</td>\n",
              "      <td>Commercial Sex Acts</td>\n",
              "      <td>15</td>\n",
              "      <td>0</td>\n",
              "      <td>4</td>\n",
              "      <td>0</td>\n",
              "    </tr>\n",
              "    <tr>\n",
              "      <th>4</th>\n",
              "      <td>2017</td>\n",
              "      <td>AZ0070500</td>\n",
              "      <td>Chandler</td>\n",
              "      <td>NaN</td>\n",
              "      <td>City</td>\n",
              "      <td>AZ</td>\n",
              "      <td>Arizona</td>\n",
              "      <td>Mountain</td>\n",
              "      <td>MARICOPA</td>\n",
              "      <td>West</td>\n",
              "      <td>2</td>\n",
              "      <td>Cities from 100,000 thru 249,999</td>\n",
              "      <td>81</td>\n",
              "      <td>Human Trafficking</td>\n",
              "      <td>Commercial Sex Acts</td>\n",
              "      <td>1</td>\n",
              "      <td>0</td>\n",
              "      <td>0</td>\n",
              "      <td>0</td>\n",
              "    </tr>\n",
              "  </tbody>\n",
              "</table>\n",
              "</div>\n",
              "      <button class=\"colab-df-convert\" onclick=\"convertToInteractive('df-a87eaac4-2bd1-441a-82ad-f8f0f0980ae8')\"\n",
              "              title=\"Convert this dataframe to an interactive table.\"\n",
              "              style=\"display:none;\">\n",
              "        \n",
              "  <svg xmlns=\"http://www.w3.org/2000/svg\" height=\"24px\"viewBox=\"0 0 24 24\"\n",
              "       width=\"24px\">\n",
              "    <path d=\"M0 0h24v24H0V0z\" fill=\"none\"/>\n",
              "    <path d=\"M18.56 5.44l.94 2.06.94-2.06 2.06-.94-2.06-.94-.94-2.06-.94 2.06-2.06.94zm-11 1L8.5 8.5l.94-2.06 2.06-.94-2.06-.94L8.5 2.5l-.94 2.06-2.06.94zm10 10l.94 2.06.94-2.06 2.06-.94-2.06-.94-.94-2.06-.94 2.06-2.06.94z\"/><path d=\"M17.41 7.96l-1.37-1.37c-.4-.4-.92-.59-1.43-.59-.52 0-1.04.2-1.43.59L10.3 9.45l-7.72 7.72c-.78.78-.78 2.05 0 2.83L4 21.41c.39.39.9.59 1.41.59.51 0 1.02-.2 1.41-.59l7.78-7.78 2.81-2.81c.8-.78.8-2.07 0-2.86zM5.41 20L4 18.59l7.72-7.72 1.47 1.35L5.41 20z\"/>\n",
              "  </svg>\n",
              "      </button>\n",
              "      \n",
              "  <style>\n",
              "    .colab-df-container {\n",
              "      display:flex;\n",
              "      flex-wrap:wrap;\n",
              "      gap: 12px;\n",
              "    }\n",
              "\n",
              "    .colab-df-convert {\n",
              "      background-color: #E8F0FE;\n",
              "      border: none;\n",
              "      border-radius: 50%;\n",
              "      cursor: pointer;\n",
              "      display: none;\n",
              "      fill: #1967D2;\n",
              "      height: 32px;\n",
              "      padding: 0 0 0 0;\n",
              "      width: 32px;\n",
              "    }\n",
              "\n",
              "    .colab-df-convert:hover {\n",
              "      background-color: #E2EBFA;\n",
              "      box-shadow: 0px 1px 2px rgba(60, 64, 67, 0.3), 0px 1px 3px 1px rgba(60, 64, 67, 0.15);\n",
              "      fill: #174EA6;\n",
              "    }\n",
              "\n",
              "    [theme=dark] .colab-df-convert {\n",
              "      background-color: #3B4455;\n",
              "      fill: #D2E3FC;\n",
              "    }\n",
              "\n",
              "    [theme=dark] .colab-df-convert:hover {\n",
              "      background-color: #434B5C;\n",
              "      box-shadow: 0px 1px 3px 1px rgba(0, 0, 0, 0.15);\n",
              "      filter: drop-shadow(0px 1px 2px rgba(0, 0, 0, 0.3));\n",
              "      fill: #FFFFFF;\n",
              "    }\n",
              "  </style>\n",
              "\n",
              "      <script>\n",
              "        const buttonEl =\n",
              "          document.querySelector('#df-a87eaac4-2bd1-441a-82ad-f8f0f0980ae8 button.colab-df-convert');\n",
              "        buttonEl.style.display =\n",
              "          google.colab.kernel.accessAllowed ? 'block' : 'none';\n",
              "\n",
              "        async function convertToInteractive(key) {\n",
              "          const element = document.querySelector('#df-a87eaac4-2bd1-441a-82ad-f8f0f0980ae8');\n",
              "          const dataTable =\n",
              "            await google.colab.kernel.invokeFunction('convertToInteractive',\n",
              "                                                     [key], {});\n",
              "          if (!dataTable) return;\n",
              "\n",
              "          const docLinkHtml = 'Like what you see? Visit the ' +\n",
              "            '<a target=\"_blank\" href=https://colab.research.google.com/notebooks/data_table.ipynb>data table notebook</a>'\n",
              "            + ' to learn more about interactive tables.';\n",
              "          element.innerHTML = '';\n",
              "          dataTable['output_type'] = 'display_data';\n",
              "          await google.colab.output.renderOutput(dataTable, element);\n",
              "          const docLink = document.createElement('div');\n",
              "          docLink.innerHTML = docLinkHtml;\n",
              "          element.appendChild(docLink);\n",
              "        }\n",
              "      </script>\n",
              "    </div>\n",
              "  </div>\n",
              "  "
            ]
          },
          "metadata": {},
          "execution_count": 7
        }
      ]
    },
    {
      "cell_type": "code",
      "source": [
        "#displaying bottom 5 rows\n",
        "df.tail(5) "
      ],
      "metadata": {
        "colab": {
          "base_uri": "https://localhost:8080/",
          "height": 357
        },
        "id": "3c3pBmWbzLmD",
        "outputId": "5218ac7d-6fc2-4f34-c3c8-94d1de304235"
      },
      "execution_count": 8,
      "outputs": [
        {
          "output_type": "execute_result",
          "data": {
            "text/plain": [
              "      DATA_YEAR        ORI PUB_AGENCY_NAME PUB_AGENCY_UNIT AGENCY_TYPE_NAME  \\\n",
              "4412       2019  KY0370000        Franklin             NaN           County   \n",
              "4413       2019  KY0370000        Franklin             NaN           County   \n",
              "4414       2020  KY0370000        Franklin             NaN           County   \n",
              "4415       2020  KY0370000        Franklin             NaN           County   \n",
              "4416       2020  KY0370000        Franklin             NaN           County   \n",
              "\n",
              "     STATE_ABBR STATE_NAME       DIVISION_NAME COUNTY_NAME REGION_NAME  \\\n",
              "4412         KY   Kentucky  East South Central    FRANKLIN       South   \n",
              "4413         KY   Kentucky  East South Central    FRANKLIN       South   \n",
              "4414         KY   Kentucky  East South Central    FRANKLIN       South   \n",
              "4415         KY   Kentucky  East South Central    FRANKLIN       South   \n",
              "4416         KY   Kentucky  East South Central    FRANKLIN       South   \n",
              "\n",
              "     POPULATION_GROUP_CODE                     POPULATION_GROUP_DESC  \\\n",
              "4412                    8C  Non-MSA counties from 10,000 thru 24,999   \n",
              "4413                    8C  Non-MSA counties from 10,000 thru 24,999   \n",
              "4414                    8C  Non-MSA counties from 10,000 thru 24,999   \n",
              "4415                    8C  Non-MSA counties from 10,000 thru 24,999   \n",
              "4416                    8C  Non-MSA counties from 10,000 thru 24,999   \n",
              "\n",
              "      OFFENSE_SUBCAT_ID       OFFENSE_NAME    OFFENSE_SUBCAT_NAME  \\\n",
              "4412                 82  Human Trafficking  Involuntary Servitude   \n",
              "4413                 82  Human Trafficking  Involuntary Servitude   \n",
              "4414                 81  Human Trafficking    Commercial Sex Acts   \n",
              "4415                 81  Human Trafficking    Commercial Sex Acts   \n",
              "4416                 81  Human Trafficking    Commercial Sex Acts   \n",
              "\n",
              "      ACTUAL_COUNT  UNFOUNDED_COUNT  CLEARED_COUNT  JUVENILE_CLEARED_COUNT  \n",
              "4412             2                0              0                       0  \n",
              "4413             1                0              0                       0  \n",
              "4414             1                0              0                       0  \n",
              "4415             1                0              0                       0  \n",
              "4416             1                0              0                       0  "
            ],
            "text/html": [
              "\n",
              "  <div id=\"df-9ca1eb32-db40-4a8a-98ed-21ce79a36a64\">\n",
              "    <div class=\"colab-df-container\">\n",
              "      <div>\n",
              "<style scoped>\n",
              "    .dataframe tbody tr th:only-of-type {\n",
              "        vertical-align: middle;\n",
              "    }\n",
              "\n",
              "    .dataframe tbody tr th {\n",
              "        vertical-align: top;\n",
              "    }\n",
              "\n",
              "    .dataframe thead th {\n",
              "        text-align: right;\n",
              "    }\n",
              "</style>\n",
              "<table border=\"1\" class=\"dataframe\">\n",
              "  <thead>\n",
              "    <tr style=\"text-align: right;\">\n",
              "      <th></th>\n",
              "      <th>DATA_YEAR</th>\n",
              "      <th>ORI</th>\n",
              "      <th>PUB_AGENCY_NAME</th>\n",
              "      <th>PUB_AGENCY_UNIT</th>\n",
              "      <th>AGENCY_TYPE_NAME</th>\n",
              "      <th>STATE_ABBR</th>\n",
              "      <th>STATE_NAME</th>\n",
              "      <th>DIVISION_NAME</th>\n",
              "      <th>COUNTY_NAME</th>\n",
              "      <th>REGION_NAME</th>\n",
              "      <th>POPULATION_GROUP_CODE</th>\n",
              "      <th>POPULATION_GROUP_DESC</th>\n",
              "      <th>OFFENSE_SUBCAT_ID</th>\n",
              "      <th>OFFENSE_NAME</th>\n",
              "      <th>OFFENSE_SUBCAT_NAME</th>\n",
              "      <th>ACTUAL_COUNT</th>\n",
              "      <th>UNFOUNDED_COUNT</th>\n",
              "      <th>CLEARED_COUNT</th>\n",
              "      <th>JUVENILE_CLEARED_COUNT</th>\n",
              "    </tr>\n",
              "  </thead>\n",
              "  <tbody>\n",
              "    <tr>\n",
              "      <th>4412</th>\n",
              "      <td>2019</td>\n",
              "      <td>KY0370000</td>\n",
              "      <td>Franklin</td>\n",
              "      <td>NaN</td>\n",
              "      <td>County</td>\n",
              "      <td>KY</td>\n",
              "      <td>Kentucky</td>\n",
              "      <td>East South Central</td>\n",
              "      <td>FRANKLIN</td>\n",
              "      <td>South</td>\n",
              "      <td>8C</td>\n",
              "      <td>Non-MSA counties from 10,000 thru 24,999</td>\n",
              "      <td>82</td>\n",
              "      <td>Human Trafficking</td>\n",
              "      <td>Involuntary Servitude</td>\n",
              "      <td>2</td>\n",
              "      <td>0</td>\n",
              "      <td>0</td>\n",
              "      <td>0</td>\n",
              "    </tr>\n",
              "    <tr>\n",
              "      <th>4413</th>\n",
              "      <td>2019</td>\n",
              "      <td>KY0370000</td>\n",
              "      <td>Franklin</td>\n",
              "      <td>NaN</td>\n",
              "      <td>County</td>\n",
              "      <td>KY</td>\n",
              "      <td>Kentucky</td>\n",
              "      <td>East South Central</td>\n",
              "      <td>FRANKLIN</td>\n",
              "      <td>South</td>\n",
              "      <td>8C</td>\n",
              "      <td>Non-MSA counties from 10,000 thru 24,999</td>\n",
              "      <td>82</td>\n",
              "      <td>Human Trafficking</td>\n",
              "      <td>Involuntary Servitude</td>\n",
              "      <td>1</td>\n",
              "      <td>0</td>\n",
              "      <td>0</td>\n",
              "      <td>0</td>\n",
              "    </tr>\n",
              "    <tr>\n",
              "      <th>4414</th>\n",
              "      <td>2020</td>\n",
              "      <td>KY0370000</td>\n",
              "      <td>Franklin</td>\n",
              "      <td>NaN</td>\n",
              "      <td>County</td>\n",
              "      <td>KY</td>\n",
              "      <td>Kentucky</td>\n",
              "      <td>East South Central</td>\n",
              "      <td>FRANKLIN</td>\n",
              "      <td>South</td>\n",
              "      <td>8C</td>\n",
              "      <td>Non-MSA counties from 10,000 thru 24,999</td>\n",
              "      <td>81</td>\n",
              "      <td>Human Trafficking</td>\n",
              "      <td>Commercial Sex Acts</td>\n",
              "      <td>1</td>\n",
              "      <td>0</td>\n",
              "      <td>0</td>\n",
              "      <td>0</td>\n",
              "    </tr>\n",
              "    <tr>\n",
              "      <th>4415</th>\n",
              "      <td>2020</td>\n",
              "      <td>KY0370000</td>\n",
              "      <td>Franklin</td>\n",
              "      <td>NaN</td>\n",
              "      <td>County</td>\n",
              "      <td>KY</td>\n",
              "      <td>Kentucky</td>\n",
              "      <td>East South Central</td>\n",
              "      <td>FRANKLIN</td>\n",
              "      <td>South</td>\n",
              "      <td>8C</td>\n",
              "      <td>Non-MSA counties from 10,000 thru 24,999</td>\n",
              "      <td>81</td>\n",
              "      <td>Human Trafficking</td>\n",
              "      <td>Commercial Sex Acts</td>\n",
              "      <td>1</td>\n",
              "      <td>0</td>\n",
              "      <td>0</td>\n",
              "      <td>0</td>\n",
              "    </tr>\n",
              "    <tr>\n",
              "      <th>4416</th>\n",
              "      <td>2020</td>\n",
              "      <td>KY0370000</td>\n",
              "      <td>Franklin</td>\n",
              "      <td>NaN</td>\n",
              "      <td>County</td>\n",
              "      <td>KY</td>\n",
              "      <td>Kentucky</td>\n",
              "      <td>East South Central</td>\n",
              "      <td>FRANKLIN</td>\n",
              "      <td>South</td>\n",
              "      <td>8C</td>\n",
              "      <td>Non-MSA counties from 10,000 thru 24,999</td>\n",
              "      <td>81</td>\n",
              "      <td>Human Trafficking</td>\n",
              "      <td>Commercial Sex Acts</td>\n",
              "      <td>1</td>\n",
              "      <td>0</td>\n",
              "      <td>0</td>\n",
              "      <td>0</td>\n",
              "    </tr>\n",
              "  </tbody>\n",
              "</table>\n",
              "</div>\n",
              "      <button class=\"colab-df-convert\" onclick=\"convertToInteractive('df-9ca1eb32-db40-4a8a-98ed-21ce79a36a64')\"\n",
              "              title=\"Convert this dataframe to an interactive table.\"\n",
              "              style=\"display:none;\">\n",
              "        \n",
              "  <svg xmlns=\"http://www.w3.org/2000/svg\" height=\"24px\"viewBox=\"0 0 24 24\"\n",
              "       width=\"24px\">\n",
              "    <path d=\"M0 0h24v24H0V0z\" fill=\"none\"/>\n",
              "    <path d=\"M18.56 5.44l.94 2.06.94-2.06 2.06-.94-2.06-.94-.94-2.06-.94 2.06-2.06.94zm-11 1L8.5 8.5l.94-2.06 2.06-.94-2.06-.94L8.5 2.5l-.94 2.06-2.06.94zm10 10l.94 2.06.94-2.06 2.06-.94-2.06-.94-.94-2.06-.94 2.06-2.06.94z\"/><path d=\"M17.41 7.96l-1.37-1.37c-.4-.4-.92-.59-1.43-.59-.52 0-1.04.2-1.43.59L10.3 9.45l-7.72 7.72c-.78.78-.78 2.05 0 2.83L4 21.41c.39.39.9.59 1.41.59.51 0 1.02-.2 1.41-.59l7.78-7.78 2.81-2.81c.8-.78.8-2.07 0-2.86zM5.41 20L4 18.59l7.72-7.72 1.47 1.35L5.41 20z\"/>\n",
              "  </svg>\n",
              "      </button>\n",
              "      \n",
              "  <style>\n",
              "    .colab-df-container {\n",
              "      display:flex;\n",
              "      flex-wrap:wrap;\n",
              "      gap: 12px;\n",
              "    }\n",
              "\n",
              "    .colab-df-convert {\n",
              "      background-color: #E8F0FE;\n",
              "      border: none;\n",
              "      border-radius: 50%;\n",
              "      cursor: pointer;\n",
              "      display: none;\n",
              "      fill: #1967D2;\n",
              "      height: 32px;\n",
              "      padding: 0 0 0 0;\n",
              "      width: 32px;\n",
              "    }\n",
              "\n",
              "    .colab-df-convert:hover {\n",
              "      background-color: #E2EBFA;\n",
              "      box-shadow: 0px 1px 2px rgba(60, 64, 67, 0.3), 0px 1px 3px 1px rgba(60, 64, 67, 0.15);\n",
              "      fill: #174EA6;\n",
              "    }\n",
              "\n",
              "    [theme=dark] .colab-df-convert {\n",
              "      background-color: #3B4455;\n",
              "      fill: #D2E3FC;\n",
              "    }\n",
              "\n",
              "    [theme=dark] .colab-df-convert:hover {\n",
              "      background-color: #434B5C;\n",
              "      box-shadow: 0px 1px 3px 1px rgba(0, 0, 0, 0.15);\n",
              "      filter: drop-shadow(0px 1px 2px rgba(0, 0, 0, 0.3));\n",
              "      fill: #FFFFFF;\n",
              "    }\n",
              "  </style>\n",
              "\n",
              "      <script>\n",
              "        const buttonEl =\n",
              "          document.querySelector('#df-9ca1eb32-db40-4a8a-98ed-21ce79a36a64 button.colab-df-convert');\n",
              "        buttonEl.style.display =\n",
              "          google.colab.kernel.accessAllowed ? 'block' : 'none';\n",
              "\n",
              "        async function convertToInteractive(key) {\n",
              "          const element = document.querySelector('#df-9ca1eb32-db40-4a8a-98ed-21ce79a36a64');\n",
              "          const dataTable =\n",
              "            await google.colab.kernel.invokeFunction('convertToInteractive',\n",
              "                                                     [key], {});\n",
              "          if (!dataTable) return;\n",
              "\n",
              "          const docLinkHtml = 'Like what you see? Visit the ' +\n",
              "            '<a target=\"_blank\" href=https://colab.research.google.com/notebooks/data_table.ipynb>data table notebook</a>'\n",
              "            + ' to learn more about interactive tables.';\n",
              "          element.innerHTML = '';\n",
              "          dataTable['output_type'] = 'display_data';\n",
              "          await google.colab.output.renderOutput(dataTable, element);\n",
              "          const docLink = document.createElement('div');\n",
              "          docLink.innerHTML = docLinkHtml;\n",
              "          element.appendChild(docLink);\n",
              "        }\n",
              "      </script>\n",
              "    </div>\n",
              "  </div>\n",
              "  "
            ]
          },
          "metadata": {},
          "execution_count": 8
        }
      ]
    },
    {
      "cell_type": "code",
      "source": [
        "#understanding the dataset features, datatypes, null count\n",
        "df.info()"
      ],
      "metadata": {
        "colab": {
          "base_uri": "https://localhost:8080/"
        },
        "id": "I18iSG7tzZqP",
        "outputId": "7d3758a1-022a-4120-8e7f-f2a7be57f092"
      },
      "execution_count": 9,
      "outputs": [
        {
          "output_type": "stream",
          "name": "stdout",
          "text": [
            "<class 'pandas.core.frame.DataFrame'>\n",
            "RangeIndex: 4417 entries, 0 to 4416\n",
            "Data columns (total 19 columns):\n",
            " #   Column                  Non-Null Count  Dtype \n",
            "---  ------                  --------------  ----- \n",
            " 0   DATA_YEAR               4417 non-null   int64 \n",
            " 1   ORI                     4417 non-null   object\n",
            " 2   PUB_AGENCY_NAME         4417 non-null   object\n",
            " 3   PUB_AGENCY_UNIT         214 non-null    object\n",
            " 4   AGENCY_TYPE_NAME        4417 non-null   object\n",
            " 5   STATE_ABBR              4417 non-null   object\n",
            " 6   STATE_NAME              4417 non-null   object\n",
            " 7   DIVISION_NAME           4417 non-null   object\n",
            " 8   COUNTY_NAME             4306 non-null   object\n",
            " 9   REGION_NAME             4417 non-null   object\n",
            " 10  POPULATION_GROUP_CODE   4417 non-null   object\n",
            " 11  POPULATION_GROUP_DESC   4417 non-null   object\n",
            " 12  OFFENSE_SUBCAT_ID       4417 non-null   int64 \n",
            " 13  OFFENSE_NAME            4417 non-null   object\n",
            " 14  OFFENSE_SUBCAT_NAME     4417 non-null   object\n",
            " 15  ACTUAL_COUNT            4417 non-null   int64 \n",
            " 16  UNFOUNDED_COUNT         4417 non-null   int64 \n",
            " 17  CLEARED_COUNT           4417 non-null   int64 \n",
            " 18  JUVENILE_CLEARED_COUNT  4417 non-null   int64 \n",
            "dtypes: int64(6), object(13)\n",
            "memory usage: 655.8+ KB\n"
          ]
        }
      ]
    },
    {
      "cell_type": "markdown",
      "source": [
        "As we can see above, this dataset has 19 features or columns. Some columns being more important than others. For ease of EDA, we will remove the columns not required. \n",
        "In our dataset, we have 6 integer datatype and 13 object datatype columns. There are a total of 4417 samples."
      ],
      "metadata": {
        "id": "dvA0EzTfzkzv"
      }
    },
    {
      "cell_type": "code",
      "source": [
        "df.describe()"
      ],
      "metadata": {
        "colab": {
          "base_uri": "https://localhost:8080/",
          "height": 300
        },
        "id": "ggWMCpZbz5qk",
        "outputId": "33cbc66e-cb12-4543-fb05-59fd92f03925"
      },
      "execution_count": 10,
      "outputs": [
        {
          "output_type": "execute_result",
          "data": {
            "text/plain": [
              "         DATA_YEAR  OFFENSE_SUBCAT_ID  ACTUAL_COUNT  UNFOUNDED_COUNT  \\\n",
              "count  4417.000000        4417.000000   4417.000000      4417.000000   \n",
              "mean   2017.884763          81.194476      2.173194         0.072674   \n",
              "std       1.843414           0.395841      3.128820         0.926374   \n",
              "min    2013.000000          81.000000     -1.000000         0.000000   \n",
              "25%    2017.000000          81.000000      1.000000         0.000000   \n",
              "50%    2018.000000          81.000000      1.000000         0.000000   \n",
              "75%    2019.000000          81.000000      2.000000         0.000000   \n",
              "max    2020.000000          82.000000     67.000000        47.000000   \n",
              "\n",
              "       CLEARED_COUNT  JUVENILE_CLEARED_COUNT  \n",
              "count    4417.000000             4417.000000  \n",
              "mean        0.837673                0.032601  \n",
              "std         2.069699                0.433354  \n",
              "min         0.000000                0.000000  \n",
              "25%         0.000000                0.000000  \n",
              "50%         0.000000                0.000000  \n",
              "75%         1.000000                0.000000  \n",
              "max        41.000000               19.000000  "
            ],
            "text/html": [
              "\n",
              "  <div id=\"df-dff4a9cb-d5e2-412b-b16b-3faa9c273761\">\n",
              "    <div class=\"colab-df-container\">\n",
              "      <div>\n",
              "<style scoped>\n",
              "    .dataframe tbody tr th:only-of-type {\n",
              "        vertical-align: middle;\n",
              "    }\n",
              "\n",
              "    .dataframe tbody tr th {\n",
              "        vertical-align: top;\n",
              "    }\n",
              "\n",
              "    .dataframe thead th {\n",
              "        text-align: right;\n",
              "    }\n",
              "</style>\n",
              "<table border=\"1\" class=\"dataframe\">\n",
              "  <thead>\n",
              "    <tr style=\"text-align: right;\">\n",
              "      <th></th>\n",
              "      <th>DATA_YEAR</th>\n",
              "      <th>OFFENSE_SUBCAT_ID</th>\n",
              "      <th>ACTUAL_COUNT</th>\n",
              "      <th>UNFOUNDED_COUNT</th>\n",
              "      <th>CLEARED_COUNT</th>\n",
              "      <th>JUVENILE_CLEARED_COUNT</th>\n",
              "    </tr>\n",
              "  </thead>\n",
              "  <tbody>\n",
              "    <tr>\n",
              "      <th>count</th>\n",
              "      <td>4417.000000</td>\n",
              "      <td>4417.000000</td>\n",
              "      <td>4417.000000</td>\n",
              "      <td>4417.000000</td>\n",
              "      <td>4417.000000</td>\n",
              "      <td>4417.000000</td>\n",
              "    </tr>\n",
              "    <tr>\n",
              "      <th>mean</th>\n",
              "      <td>2017.884763</td>\n",
              "      <td>81.194476</td>\n",
              "      <td>2.173194</td>\n",
              "      <td>0.072674</td>\n",
              "      <td>0.837673</td>\n",
              "      <td>0.032601</td>\n",
              "    </tr>\n",
              "    <tr>\n",
              "      <th>std</th>\n",
              "      <td>1.843414</td>\n",
              "      <td>0.395841</td>\n",
              "      <td>3.128820</td>\n",
              "      <td>0.926374</td>\n",
              "      <td>2.069699</td>\n",
              "      <td>0.433354</td>\n",
              "    </tr>\n",
              "    <tr>\n",
              "      <th>min</th>\n",
              "      <td>2013.000000</td>\n",
              "      <td>81.000000</td>\n",
              "      <td>-1.000000</td>\n",
              "      <td>0.000000</td>\n",
              "      <td>0.000000</td>\n",
              "      <td>0.000000</td>\n",
              "    </tr>\n",
              "    <tr>\n",
              "      <th>25%</th>\n",
              "      <td>2017.000000</td>\n",
              "      <td>81.000000</td>\n",
              "      <td>1.000000</td>\n",
              "      <td>0.000000</td>\n",
              "      <td>0.000000</td>\n",
              "      <td>0.000000</td>\n",
              "    </tr>\n",
              "    <tr>\n",
              "      <th>50%</th>\n",
              "      <td>2018.000000</td>\n",
              "      <td>81.000000</td>\n",
              "      <td>1.000000</td>\n",
              "      <td>0.000000</td>\n",
              "      <td>0.000000</td>\n",
              "      <td>0.000000</td>\n",
              "    </tr>\n",
              "    <tr>\n",
              "      <th>75%</th>\n",
              "      <td>2019.000000</td>\n",
              "      <td>81.000000</td>\n",
              "      <td>2.000000</td>\n",
              "      <td>0.000000</td>\n",
              "      <td>1.000000</td>\n",
              "      <td>0.000000</td>\n",
              "    </tr>\n",
              "    <tr>\n",
              "      <th>max</th>\n",
              "      <td>2020.000000</td>\n",
              "      <td>82.000000</td>\n",
              "      <td>67.000000</td>\n",
              "      <td>47.000000</td>\n",
              "      <td>41.000000</td>\n",
              "      <td>19.000000</td>\n",
              "    </tr>\n",
              "  </tbody>\n",
              "</table>\n",
              "</div>\n",
              "      <button class=\"colab-df-convert\" onclick=\"convertToInteractive('df-dff4a9cb-d5e2-412b-b16b-3faa9c273761')\"\n",
              "              title=\"Convert this dataframe to an interactive table.\"\n",
              "              style=\"display:none;\">\n",
              "        \n",
              "  <svg xmlns=\"http://www.w3.org/2000/svg\" height=\"24px\"viewBox=\"0 0 24 24\"\n",
              "       width=\"24px\">\n",
              "    <path d=\"M0 0h24v24H0V0z\" fill=\"none\"/>\n",
              "    <path d=\"M18.56 5.44l.94 2.06.94-2.06 2.06-.94-2.06-.94-.94-2.06-.94 2.06-2.06.94zm-11 1L8.5 8.5l.94-2.06 2.06-.94-2.06-.94L8.5 2.5l-.94 2.06-2.06.94zm10 10l.94 2.06.94-2.06 2.06-.94-2.06-.94-.94-2.06-.94 2.06-2.06.94z\"/><path d=\"M17.41 7.96l-1.37-1.37c-.4-.4-.92-.59-1.43-.59-.52 0-1.04.2-1.43.59L10.3 9.45l-7.72 7.72c-.78.78-.78 2.05 0 2.83L4 21.41c.39.39.9.59 1.41.59.51 0 1.02-.2 1.41-.59l7.78-7.78 2.81-2.81c.8-.78.8-2.07 0-2.86zM5.41 20L4 18.59l7.72-7.72 1.47 1.35L5.41 20z\"/>\n",
              "  </svg>\n",
              "      </button>\n",
              "      \n",
              "  <style>\n",
              "    .colab-df-container {\n",
              "      display:flex;\n",
              "      flex-wrap:wrap;\n",
              "      gap: 12px;\n",
              "    }\n",
              "\n",
              "    .colab-df-convert {\n",
              "      background-color: #E8F0FE;\n",
              "      border: none;\n",
              "      border-radius: 50%;\n",
              "      cursor: pointer;\n",
              "      display: none;\n",
              "      fill: #1967D2;\n",
              "      height: 32px;\n",
              "      padding: 0 0 0 0;\n",
              "      width: 32px;\n",
              "    }\n",
              "\n",
              "    .colab-df-convert:hover {\n",
              "      background-color: #E2EBFA;\n",
              "      box-shadow: 0px 1px 2px rgba(60, 64, 67, 0.3), 0px 1px 3px 1px rgba(60, 64, 67, 0.15);\n",
              "      fill: #174EA6;\n",
              "    }\n",
              "\n",
              "    [theme=dark] .colab-df-convert {\n",
              "      background-color: #3B4455;\n",
              "      fill: #D2E3FC;\n",
              "    }\n",
              "\n",
              "    [theme=dark] .colab-df-convert:hover {\n",
              "      background-color: #434B5C;\n",
              "      box-shadow: 0px 1px 3px 1px rgba(0, 0, 0, 0.15);\n",
              "      filter: drop-shadow(0px 1px 2px rgba(0, 0, 0, 0.3));\n",
              "      fill: #FFFFFF;\n",
              "    }\n",
              "  </style>\n",
              "\n",
              "      <script>\n",
              "        const buttonEl =\n",
              "          document.querySelector('#df-dff4a9cb-d5e2-412b-b16b-3faa9c273761 button.colab-df-convert');\n",
              "        buttonEl.style.display =\n",
              "          google.colab.kernel.accessAllowed ? 'block' : 'none';\n",
              "\n",
              "        async function convertToInteractive(key) {\n",
              "          const element = document.querySelector('#df-dff4a9cb-d5e2-412b-b16b-3faa9c273761');\n",
              "          const dataTable =\n",
              "            await google.colab.kernel.invokeFunction('convertToInteractive',\n",
              "                                                     [key], {});\n",
              "          if (!dataTable) return;\n",
              "\n",
              "          const docLinkHtml = 'Like what you see? Visit the ' +\n",
              "            '<a target=\"_blank\" href=https://colab.research.google.com/notebooks/data_table.ipynb>data table notebook</a>'\n",
              "            + ' to learn more about interactive tables.';\n",
              "          element.innerHTML = '';\n",
              "          dataTable['output_type'] = 'display_data';\n",
              "          await google.colab.output.renderOutput(dataTable, element);\n",
              "          const docLink = document.createElement('div');\n",
              "          docLink.innerHTML = docLinkHtml;\n",
              "          element.appendChild(docLink);\n",
              "        }\n",
              "      </script>\n",
              "    </div>\n",
              "  </div>\n",
              "  "
            ]
          },
          "metadata": {},
          "execution_count": 10
        }
      ]
    },
    {
      "cell_type": "code",
      "source": [
        "#to get the number of features (which is basically no of columnsof the dataset)\n",
        "len(df.columns) "
      ],
      "metadata": {
        "colab": {
          "base_uri": "https://localhost:8080/"
        },
        "id": "Ivtv5qjH0kuQ",
        "outputId": "36654c21-0ea5-4e72-eb7c-fe0e8573c9b0"
      },
      "execution_count": 11,
      "outputs": [
        {
          "output_type": "execute_result",
          "data": {
            "text/plain": [
              "19"
            ]
          },
          "metadata": {},
          "execution_count": 11
        }
      ]
    },
    {
      "cell_type": "code",
      "source": [
        "#this gives us the number of samples\n",
        "len(df)"
      ],
      "metadata": {
        "colab": {
          "base_uri": "https://localhost:8080/"
        },
        "id": "eA4Ml6GV0x7j",
        "outputId": "63bea01f-1655-4958-e70d-ad7ebfe7c626"
      },
      "execution_count": 12,
      "outputs": [
        {
          "output_type": "execute_result",
          "data": {
            "text/plain": [
              "4417"
            ]
          },
          "metadata": {},
          "execution_count": 12
        }
      ]
    },
    {
      "cell_type": "code",
      "source": [
        "#to get the structure/dimension of the data\n",
        "df.shape "
      ],
      "metadata": {
        "colab": {
          "base_uri": "https://localhost:8080/"
        },
        "id": "vYTCD8rP04IT",
        "outputId": "749c5749-56cf-4bd4-b7bf-8817b45d6883"
      },
      "execution_count": 13,
      "outputs": [
        {
          "output_type": "execute_result",
          "data": {
            "text/plain": [
              "(4417, 19)"
            ]
          },
          "metadata": {},
          "execution_count": 13
        }
      ]
    },
    {
      "cell_type": "code",
      "source": [
        "#renaming columns\n",
        "df = df.rename(columns={\"DATA_YEAR\": \"Year\", \"ACTUAL_COUNT\": \"ReportedCases_Total\",\"UNFOUNDED_COUNT\": \"FakeCases_Total\"})\n",
        "df.head(5)"
      ],
      "metadata": {
        "colab": {
          "base_uri": "https://localhost:8080/",
          "height": 392
        },
        "id": "wufeRYJ607eK",
        "outputId": "f2e63680-5c5b-4e4f-8a30-ce5600e20398"
      },
      "execution_count": 15,
      "outputs": [
        {
          "output_type": "execute_result",
          "data": {
            "text/plain": [
              "   Year        ORI                           PUB_AGENCY_NAME PUB_AGENCY_UNIT  \\\n",
              "0  2016  MO0480600                              Independence             NaN   \n",
              "1  2016  TX2201200                                Fort Worth             NaN   \n",
              "2  2016  TX2270100                                    Austin             NaN   \n",
              "3  2019  NV0020100  Las Vegas Metropolitan Police Department             NaN   \n",
              "4  2017  AZ0070500                                  Chandler             NaN   \n",
              "\n",
              "  AGENCY_TYPE_NAME STATE_ABBR STATE_NAME       DIVISION_NAME  \\\n",
              "0             City         MO   Missouri  West North Central   \n",
              "1             City         TX      Texas  West South Central   \n",
              "2             City         TX      Texas  West South Central   \n",
              "3             City         NV     Nevada            Mountain   \n",
              "4             City         AZ    Arizona            Mountain   \n",
              "\n",
              "               COUNTY_NAME REGION_NAME POPULATION_GROUP_CODE  \\\n",
              "0                  JACKSON     Midwest                     2   \n",
              "1  PARKER; DENTON; TARRANT       South                    1B   \n",
              "2       WILLIAMSON; TRAVIS       South                    1B   \n",
              "3                    CLARK        West                    1A   \n",
              "4                 MARICOPA        West                     2   \n",
              "\n",
              "              POPULATION_GROUP_DESC  OFFENSE_SUBCAT_ID       OFFENSE_NAME  \\\n",
              "0  Cities from 100,000 thru 249,999                 81  Human Trafficking   \n",
              "1  Cities from 500,000 thru 999,999                 82  Human Trafficking   \n",
              "2  Cities from 500,000 thru 999,999                 82  Human Trafficking   \n",
              "3          Cities 1,000,000 or over                 81  Human Trafficking   \n",
              "4  Cities from 100,000 thru 249,999                 81  Human Trafficking   \n",
              "\n",
              "     OFFENSE_SUBCAT_NAME  ReportedCases_Total  FakeCases_Total  CLEARED_COUNT  \\\n",
              "0    Commercial Sex Acts                    2                0              2   \n",
              "1  Involuntary Servitude                    1                0              0   \n",
              "2  Involuntary Servitude                    2                0              0   \n",
              "3    Commercial Sex Acts                   15                0              4   \n",
              "4    Commercial Sex Acts                    1                0              0   \n",
              "\n",
              "   JUVENILE_CLEARED_COUNT  \n",
              "0                       0  \n",
              "1                       0  \n",
              "2                       0  \n",
              "3                       0  \n",
              "4                       0  "
            ],
            "text/html": [
              "\n",
              "  <div id=\"df-52282c1b-7590-43a8-9c88-8c3f212045b4\">\n",
              "    <div class=\"colab-df-container\">\n",
              "      <div>\n",
              "<style scoped>\n",
              "    .dataframe tbody tr th:only-of-type {\n",
              "        vertical-align: middle;\n",
              "    }\n",
              "\n",
              "    .dataframe tbody tr th {\n",
              "        vertical-align: top;\n",
              "    }\n",
              "\n",
              "    .dataframe thead th {\n",
              "        text-align: right;\n",
              "    }\n",
              "</style>\n",
              "<table border=\"1\" class=\"dataframe\">\n",
              "  <thead>\n",
              "    <tr style=\"text-align: right;\">\n",
              "      <th></th>\n",
              "      <th>Year</th>\n",
              "      <th>ORI</th>\n",
              "      <th>PUB_AGENCY_NAME</th>\n",
              "      <th>PUB_AGENCY_UNIT</th>\n",
              "      <th>AGENCY_TYPE_NAME</th>\n",
              "      <th>STATE_ABBR</th>\n",
              "      <th>STATE_NAME</th>\n",
              "      <th>DIVISION_NAME</th>\n",
              "      <th>COUNTY_NAME</th>\n",
              "      <th>REGION_NAME</th>\n",
              "      <th>POPULATION_GROUP_CODE</th>\n",
              "      <th>POPULATION_GROUP_DESC</th>\n",
              "      <th>OFFENSE_SUBCAT_ID</th>\n",
              "      <th>OFFENSE_NAME</th>\n",
              "      <th>OFFENSE_SUBCAT_NAME</th>\n",
              "      <th>ReportedCases_Total</th>\n",
              "      <th>FakeCases_Total</th>\n",
              "      <th>CLEARED_COUNT</th>\n",
              "      <th>JUVENILE_CLEARED_COUNT</th>\n",
              "    </tr>\n",
              "  </thead>\n",
              "  <tbody>\n",
              "    <tr>\n",
              "      <th>0</th>\n",
              "      <td>2016</td>\n",
              "      <td>MO0480600</td>\n",
              "      <td>Independence</td>\n",
              "      <td>NaN</td>\n",
              "      <td>City</td>\n",
              "      <td>MO</td>\n",
              "      <td>Missouri</td>\n",
              "      <td>West North Central</td>\n",
              "      <td>JACKSON</td>\n",
              "      <td>Midwest</td>\n",
              "      <td>2</td>\n",
              "      <td>Cities from 100,000 thru 249,999</td>\n",
              "      <td>81</td>\n",
              "      <td>Human Trafficking</td>\n",
              "      <td>Commercial Sex Acts</td>\n",
              "      <td>2</td>\n",
              "      <td>0</td>\n",
              "      <td>2</td>\n",
              "      <td>0</td>\n",
              "    </tr>\n",
              "    <tr>\n",
              "      <th>1</th>\n",
              "      <td>2016</td>\n",
              "      <td>TX2201200</td>\n",
              "      <td>Fort Worth</td>\n",
              "      <td>NaN</td>\n",
              "      <td>City</td>\n",
              "      <td>TX</td>\n",
              "      <td>Texas</td>\n",
              "      <td>West South Central</td>\n",
              "      <td>PARKER; DENTON; TARRANT</td>\n",
              "      <td>South</td>\n",
              "      <td>1B</td>\n",
              "      <td>Cities from 500,000 thru 999,999</td>\n",
              "      <td>82</td>\n",
              "      <td>Human Trafficking</td>\n",
              "      <td>Involuntary Servitude</td>\n",
              "      <td>1</td>\n",
              "      <td>0</td>\n",
              "      <td>0</td>\n",
              "      <td>0</td>\n",
              "    </tr>\n",
              "    <tr>\n",
              "      <th>2</th>\n",
              "      <td>2016</td>\n",
              "      <td>TX2270100</td>\n",
              "      <td>Austin</td>\n",
              "      <td>NaN</td>\n",
              "      <td>City</td>\n",
              "      <td>TX</td>\n",
              "      <td>Texas</td>\n",
              "      <td>West South Central</td>\n",
              "      <td>WILLIAMSON; TRAVIS</td>\n",
              "      <td>South</td>\n",
              "      <td>1B</td>\n",
              "      <td>Cities from 500,000 thru 999,999</td>\n",
              "      <td>82</td>\n",
              "      <td>Human Trafficking</td>\n",
              "      <td>Involuntary Servitude</td>\n",
              "      <td>2</td>\n",
              "      <td>0</td>\n",
              "      <td>0</td>\n",
              "      <td>0</td>\n",
              "    </tr>\n",
              "    <tr>\n",
              "      <th>3</th>\n",
              "      <td>2019</td>\n",
              "      <td>NV0020100</td>\n",
              "      <td>Las Vegas Metropolitan Police Department</td>\n",
              "      <td>NaN</td>\n",
              "      <td>City</td>\n",
              "      <td>NV</td>\n",
              "      <td>Nevada</td>\n",
              "      <td>Mountain</td>\n",
              "      <td>CLARK</td>\n",
              "      <td>West</td>\n",
              "      <td>1A</td>\n",
              "      <td>Cities 1,000,000 or over</td>\n",
              "      <td>81</td>\n",
              "      <td>Human Trafficking</td>\n",
              "      <td>Commercial Sex Acts</td>\n",
              "      <td>15</td>\n",
              "      <td>0</td>\n",
              "      <td>4</td>\n",
              "      <td>0</td>\n",
              "    </tr>\n",
              "    <tr>\n",
              "      <th>4</th>\n",
              "      <td>2017</td>\n",
              "      <td>AZ0070500</td>\n",
              "      <td>Chandler</td>\n",
              "      <td>NaN</td>\n",
              "      <td>City</td>\n",
              "      <td>AZ</td>\n",
              "      <td>Arizona</td>\n",
              "      <td>Mountain</td>\n",
              "      <td>MARICOPA</td>\n",
              "      <td>West</td>\n",
              "      <td>2</td>\n",
              "      <td>Cities from 100,000 thru 249,999</td>\n",
              "      <td>81</td>\n",
              "      <td>Human Trafficking</td>\n",
              "      <td>Commercial Sex Acts</td>\n",
              "      <td>1</td>\n",
              "      <td>0</td>\n",
              "      <td>0</td>\n",
              "      <td>0</td>\n",
              "    </tr>\n",
              "  </tbody>\n",
              "</table>\n",
              "</div>\n",
              "      <button class=\"colab-df-convert\" onclick=\"convertToInteractive('df-52282c1b-7590-43a8-9c88-8c3f212045b4')\"\n",
              "              title=\"Convert this dataframe to an interactive table.\"\n",
              "              style=\"display:none;\">\n",
              "        \n",
              "  <svg xmlns=\"http://www.w3.org/2000/svg\" height=\"24px\"viewBox=\"0 0 24 24\"\n",
              "       width=\"24px\">\n",
              "    <path d=\"M0 0h24v24H0V0z\" fill=\"none\"/>\n",
              "    <path d=\"M18.56 5.44l.94 2.06.94-2.06 2.06-.94-2.06-.94-.94-2.06-.94 2.06-2.06.94zm-11 1L8.5 8.5l.94-2.06 2.06-.94-2.06-.94L8.5 2.5l-.94 2.06-2.06.94zm10 10l.94 2.06.94-2.06 2.06-.94-2.06-.94-.94-2.06-.94 2.06-2.06.94z\"/><path d=\"M17.41 7.96l-1.37-1.37c-.4-.4-.92-.59-1.43-.59-.52 0-1.04.2-1.43.59L10.3 9.45l-7.72 7.72c-.78.78-.78 2.05 0 2.83L4 21.41c.39.39.9.59 1.41.59.51 0 1.02-.2 1.41-.59l7.78-7.78 2.81-2.81c.8-.78.8-2.07 0-2.86zM5.41 20L4 18.59l7.72-7.72 1.47 1.35L5.41 20z\"/>\n",
              "  </svg>\n",
              "      </button>\n",
              "      \n",
              "  <style>\n",
              "    .colab-df-container {\n",
              "      display:flex;\n",
              "      flex-wrap:wrap;\n",
              "      gap: 12px;\n",
              "    }\n",
              "\n",
              "    .colab-df-convert {\n",
              "      background-color: #E8F0FE;\n",
              "      border: none;\n",
              "      border-radius: 50%;\n",
              "      cursor: pointer;\n",
              "      display: none;\n",
              "      fill: #1967D2;\n",
              "      height: 32px;\n",
              "      padding: 0 0 0 0;\n",
              "      width: 32px;\n",
              "    }\n",
              "\n",
              "    .colab-df-convert:hover {\n",
              "      background-color: #E2EBFA;\n",
              "      box-shadow: 0px 1px 2px rgba(60, 64, 67, 0.3), 0px 1px 3px 1px rgba(60, 64, 67, 0.15);\n",
              "      fill: #174EA6;\n",
              "    }\n",
              "\n",
              "    [theme=dark] .colab-df-convert {\n",
              "      background-color: #3B4455;\n",
              "      fill: #D2E3FC;\n",
              "    }\n",
              "\n",
              "    [theme=dark] .colab-df-convert:hover {\n",
              "      background-color: #434B5C;\n",
              "      box-shadow: 0px 1px 3px 1px rgba(0, 0, 0, 0.15);\n",
              "      filter: drop-shadow(0px 1px 2px rgba(0, 0, 0, 0.3));\n",
              "      fill: #FFFFFF;\n",
              "    }\n",
              "  </style>\n",
              "\n",
              "      <script>\n",
              "        const buttonEl =\n",
              "          document.querySelector('#df-52282c1b-7590-43a8-9c88-8c3f212045b4 button.colab-df-convert');\n",
              "        buttonEl.style.display =\n",
              "          google.colab.kernel.accessAllowed ? 'block' : 'none';\n",
              "\n",
              "        async function convertToInteractive(key) {\n",
              "          const element = document.querySelector('#df-52282c1b-7590-43a8-9c88-8c3f212045b4');\n",
              "          const dataTable =\n",
              "            await google.colab.kernel.invokeFunction('convertToInteractive',\n",
              "                                                     [key], {});\n",
              "          if (!dataTable) return;\n",
              "\n",
              "          const docLinkHtml = 'Like what you see? Visit the ' +\n",
              "            '<a target=\"_blank\" href=https://colab.research.google.com/notebooks/data_table.ipynb>data table notebook</a>'\n",
              "            + ' to learn more about interactive tables.';\n",
              "          element.innerHTML = '';\n",
              "          dataTable['output_type'] = 'display_data';\n",
              "          await google.colab.output.renderOutput(dataTable, element);\n",
              "          const docLink = document.createElement('div');\n",
              "          docLink.innerHTML = docLinkHtml;\n",
              "          element.appendChild(docLink);\n",
              "        }\n",
              "      </script>\n",
              "    </div>\n",
              "  </div>\n",
              "  "
            ]
          },
          "metadata": {},
          "execution_count": 15
        }
      ]
    },
    {
      "cell_type": "code",
      "source": [
        "#dropping irrelevant columns\n",
        "df = df.drop(['ORI', 'PUB_AGENCY_NAME','PUB_AGENCY_UNIT','AGENCY_TYPE_NAME','STATE_ABBR','COUNTY_NAME','REGION_NAME','POPULATION_GROUP_CODE','POPULATION_GROUP_DESC', 'OFFENSE_SUBCAT_ID', 'OFFENSE_NAME'], axis=1)\n",
        "df.head(5)"
      ],
      "metadata": {
        "colab": {
          "base_uri": "https://localhost:8080/",
          "height": 206
        },
        "id": "lfZOTe1p12gI",
        "outputId": "8e652c0d-70f3-48b4-ae7e-55bd5c4478ac"
      },
      "execution_count": 16,
      "outputs": [
        {
          "output_type": "execute_result",
          "data": {
            "text/plain": [
              "   Year STATE_NAME       DIVISION_NAME    OFFENSE_SUBCAT_NAME  \\\n",
              "0  2016   Missouri  West North Central    Commercial Sex Acts   \n",
              "1  2016      Texas  West South Central  Involuntary Servitude   \n",
              "2  2016      Texas  West South Central  Involuntary Servitude   \n",
              "3  2019     Nevada            Mountain    Commercial Sex Acts   \n",
              "4  2017    Arizona            Mountain    Commercial Sex Acts   \n",
              "\n",
              "   ReportedCases_Total  FakeCases_Total  CLEARED_COUNT  JUVENILE_CLEARED_COUNT  \n",
              "0                    2                0              2                       0  \n",
              "1                    1                0              0                       0  \n",
              "2                    2                0              0                       0  \n",
              "3                   15                0              4                       0  \n",
              "4                    1                0              0                       0  "
            ],
            "text/html": [
              "\n",
              "  <div id=\"df-e3c91ede-53d1-4146-b8f6-c38ebef3624b\">\n",
              "    <div class=\"colab-df-container\">\n",
              "      <div>\n",
              "<style scoped>\n",
              "    .dataframe tbody tr th:only-of-type {\n",
              "        vertical-align: middle;\n",
              "    }\n",
              "\n",
              "    .dataframe tbody tr th {\n",
              "        vertical-align: top;\n",
              "    }\n",
              "\n",
              "    .dataframe thead th {\n",
              "        text-align: right;\n",
              "    }\n",
              "</style>\n",
              "<table border=\"1\" class=\"dataframe\">\n",
              "  <thead>\n",
              "    <tr style=\"text-align: right;\">\n",
              "      <th></th>\n",
              "      <th>Year</th>\n",
              "      <th>STATE_NAME</th>\n",
              "      <th>DIVISION_NAME</th>\n",
              "      <th>OFFENSE_SUBCAT_NAME</th>\n",
              "      <th>ReportedCases_Total</th>\n",
              "      <th>FakeCases_Total</th>\n",
              "      <th>CLEARED_COUNT</th>\n",
              "      <th>JUVENILE_CLEARED_COUNT</th>\n",
              "    </tr>\n",
              "  </thead>\n",
              "  <tbody>\n",
              "    <tr>\n",
              "      <th>0</th>\n",
              "      <td>2016</td>\n",
              "      <td>Missouri</td>\n",
              "      <td>West North Central</td>\n",
              "      <td>Commercial Sex Acts</td>\n",
              "      <td>2</td>\n",
              "      <td>0</td>\n",
              "      <td>2</td>\n",
              "      <td>0</td>\n",
              "    </tr>\n",
              "    <tr>\n",
              "      <th>1</th>\n",
              "      <td>2016</td>\n",
              "      <td>Texas</td>\n",
              "      <td>West South Central</td>\n",
              "      <td>Involuntary Servitude</td>\n",
              "      <td>1</td>\n",
              "      <td>0</td>\n",
              "      <td>0</td>\n",
              "      <td>0</td>\n",
              "    </tr>\n",
              "    <tr>\n",
              "      <th>2</th>\n",
              "      <td>2016</td>\n",
              "      <td>Texas</td>\n",
              "      <td>West South Central</td>\n",
              "      <td>Involuntary Servitude</td>\n",
              "      <td>2</td>\n",
              "      <td>0</td>\n",
              "      <td>0</td>\n",
              "      <td>0</td>\n",
              "    </tr>\n",
              "    <tr>\n",
              "      <th>3</th>\n",
              "      <td>2019</td>\n",
              "      <td>Nevada</td>\n",
              "      <td>Mountain</td>\n",
              "      <td>Commercial Sex Acts</td>\n",
              "      <td>15</td>\n",
              "      <td>0</td>\n",
              "      <td>4</td>\n",
              "      <td>0</td>\n",
              "    </tr>\n",
              "    <tr>\n",
              "      <th>4</th>\n",
              "      <td>2017</td>\n",
              "      <td>Arizona</td>\n",
              "      <td>Mountain</td>\n",
              "      <td>Commercial Sex Acts</td>\n",
              "      <td>1</td>\n",
              "      <td>0</td>\n",
              "      <td>0</td>\n",
              "      <td>0</td>\n",
              "    </tr>\n",
              "  </tbody>\n",
              "</table>\n",
              "</div>\n",
              "      <button class=\"colab-df-convert\" onclick=\"convertToInteractive('df-e3c91ede-53d1-4146-b8f6-c38ebef3624b')\"\n",
              "              title=\"Convert this dataframe to an interactive table.\"\n",
              "              style=\"display:none;\">\n",
              "        \n",
              "  <svg xmlns=\"http://www.w3.org/2000/svg\" height=\"24px\"viewBox=\"0 0 24 24\"\n",
              "       width=\"24px\">\n",
              "    <path d=\"M0 0h24v24H0V0z\" fill=\"none\"/>\n",
              "    <path d=\"M18.56 5.44l.94 2.06.94-2.06 2.06-.94-2.06-.94-.94-2.06-.94 2.06-2.06.94zm-11 1L8.5 8.5l.94-2.06 2.06-.94-2.06-.94L8.5 2.5l-.94 2.06-2.06.94zm10 10l.94 2.06.94-2.06 2.06-.94-2.06-.94-.94-2.06-.94 2.06-2.06.94z\"/><path d=\"M17.41 7.96l-1.37-1.37c-.4-.4-.92-.59-1.43-.59-.52 0-1.04.2-1.43.59L10.3 9.45l-7.72 7.72c-.78.78-.78 2.05 0 2.83L4 21.41c.39.39.9.59 1.41.59.51 0 1.02-.2 1.41-.59l7.78-7.78 2.81-2.81c.8-.78.8-2.07 0-2.86zM5.41 20L4 18.59l7.72-7.72 1.47 1.35L5.41 20z\"/>\n",
              "  </svg>\n",
              "      </button>\n",
              "      \n",
              "  <style>\n",
              "    .colab-df-container {\n",
              "      display:flex;\n",
              "      flex-wrap:wrap;\n",
              "      gap: 12px;\n",
              "    }\n",
              "\n",
              "    .colab-df-convert {\n",
              "      background-color: #E8F0FE;\n",
              "      border: none;\n",
              "      border-radius: 50%;\n",
              "      cursor: pointer;\n",
              "      display: none;\n",
              "      fill: #1967D2;\n",
              "      height: 32px;\n",
              "      padding: 0 0 0 0;\n",
              "      width: 32px;\n",
              "    }\n",
              "\n",
              "    .colab-df-convert:hover {\n",
              "      background-color: #E2EBFA;\n",
              "      box-shadow: 0px 1px 2px rgba(60, 64, 67, 0.3), 0px 1px 3px 1px rgba(60, 64, 67, 0.15);\n",
              "      fill: #174EA6;\n",
              "    }\n",
              "\n",
              "    [theme=dark] .colab-df-convert {\n",
              "      background-color: #3B4455;\n",
              "      fill: #D2E3FC;\n",
              "    }\n",
              "\n",
              "    [theme=dark] .colab-df-convert:hover {\n",
              "      background-color: #434B5C;\n",
              "      box-shadow: 0px 1px 3px 1px rgba(0, 0, 0, 0.15);\n",
              "      filter: drop-shadow(0px 1px 2px rgba(0, 0, 0, 0.3));\n",
              "      fill: #FFFFFF;\n",
              "    }\n",
              "  </style>\n",
              "\n",
              "      <script>\n",
              "        const buttonEl =\n",
              "          document.querySelector('#df-e3c91ede-53d1-4146-b8f6-c38ebef3624b button.colab-df-convert');\n",
              "        buttonEl.style.display =\n",
              "          google.colab.kernel.accessAllowed ? 'block' : 'none';\n",
              "\n",
              "        async function convertToInteractive(key) {\n",
              "          const element = document.querySelector('#df-e3c91ede-53d1-4146-b8f6-c38ebef3624b');\n",
              "          const dataTable =\n",
              "            await google.colab.kernel.invokeFunction('convertToInteractive',\n",
              "                                                     [key], {});\n",
              "          if (!dataTable) return;\n",
              "\n",
              "          const docLinkHtml = 'Like what you see? Visit the ' +\n",
              "            '<a target=\"_blank\" href=https://colab.research.google.com/notebooks/data_table.ipynb>data table notebook</a>'\n",
              "            + ' to learn more about interactive tables.';\n",
              "          element.innerHTML = '';\n",
              "          dataTable['output_type'] = 'display_data';\n",
              "          await google.colab.output.renderOutput(dataTable, element);\n",
              "          const docLink = document.createElement('div');\n",
              "          docLink.innerHTML = docLinkHtml;\n",
              "          element.appendChild(docLink);\n",
              "        }\n",
              "      </script>\n",
              "    </div>\n",
              "  </div>\n",
              "  "
            ]
          },
          "metadata": {},
          "execution_count": 16
        }
      ]
    },
    {
      "cell_type": "code",
      "source": [
        "#number of unique values for each relevant column\n",
        "df.nunique()"
      ],
      "metadata": {
        "colab": {
          "base_uri": "https://localhost:8080/"
        },
        "id": "U456F0CT2rUI",
        "outputId": "67d1a757-387c-42bf-9362-b8f0aeb2f251"
      },
      "execution_count": 19,
      "outputs": [
        {
          "output_type": "execute_result",
          "data": {
            "text/plain": [
              "Year                       8\n",
              "STATE_NAME                46\n",
              "DIVISION_NAME              9\n",
              "OFFENSE_SUBCAT_NAME        2\n",
              "ReportedCases_Total       32\n",
              "FakeCases_Total           15\n",
              "CLEARED_COUNT             26\n",
              "JUVENILE_CLEARED_COUNT     8\n",
              "dtype: int64"
            ]
          },
          "metadata": {},
          "execution_count": 19
        }
      ]
    },
    {
      "cell_type": "code",
      "source": [
        "#sorted unique elements of an array\n",
        "df['STATE_NAME'].unique()"
      ],
      "metadata": {
        "colab": {
          "base_uri": "https://localhost:8080/"
        },
        "id": "3kPPZqSy24h6",
        "outputId": "6d945538-9c07-4b9b-ce7d-c30f601efa65"
      },
      "execution_count": 21,
      "outputs": [
        {
          "output_type": "execute_result",
          "data": {
            "text/plain": [
              "array(['Missouri', 'Texas', 'Nevada', 'Arizona', 'North Dakota',\n",
              "       'Georgia', 'Louisiana', 'Oklahoma', 'Wisconsin', 'Colorado',\n",
              "       'Ohio', 'Massachusetts', 'Connecticut', 'Michigan', 'Virginia',\n",
              "       'South Dakota', 'Oregon', 'North Carolina', 'Kentucky', 'Alaska',\n",
              "       'Minnesota', 'Tennessee', 'Delaware', 'South Carolina',\n",
              "       'Washington', 'Maryland', 'New Hampshire', 'Illinois', 'Florida',\n",
              "       'West Virginia', 'Vermont', 'Hawaii', 'Utah', 'New Mexico',\n",
              "       'Indiana', 'Rhode Island', 'Arkansas', 'Wyoming', 'Nebraska',\n",
              "       'Montana', 'New Jersey', 'Mississippi', 'Kansas', 'Pennsylvania',\n",
              "       'Maine', 'Idaho'], dtype=object)"
            ]
          },
          "metadata": {},
          "execution_count": 21
        }
      ]
    },
    {
      "cell_type": "code",
      "source": [
        "df['Year'].unique()"
      ],
      "metadata": {
        "colab": {
          "base_uri": "https://localhost:8080/"
        },
        "id": "io8lW7-03XLZ",
        "outputId": "c772f1d4-04e5-46d0-f133-42bae7fa8e95"
      },
      "execution_count": 22,
      "outputs": [
        {
          "output_type": "execute_result",
          "data": {
            "text/plain": [
              "array([2016, 2019, 2017, 2018, 2020, 2015, 2014, 2013])"
            ]
          },
          "metadata": {},
          "execution_count": 22
        }
      ]
    },
    {
      "cell_type": "code",
      "source": [
        "df['OFFENSE_SUBCAT_NAME'].unique()"
      ],
      "metadata": {
        "colab": {
          "base_uri": "https://localhost:8080/"
        },
        "id": "bpvWFmJy3fC8",
        "outputId": "1af033e8-93b7-4c00-8ff8-75c2d1ca32f7"
      },
      "execution_count": 23,
      "outputs": [
        {
          "output_type": "execute_result",
          "data": {
            "text/plain": [
              "array(['Commercial Sex Acts', 'Involuntary Servitude'], dtype=object)"
            ]
          },
          "metadata": {},
          "execution_count": 23
        }
      ]
    },
    {
      "cell_type": "markdown",
      "source": [
        "Now, we have the list of all the state names for which we have the data. We also know that the data pertains to the years 2013 to 2020 for the subcategories Commercial Sex Acts and Involuntary Servitude under Human Trafficking."
      ],
      "metadata": {
        "id": "d0KTTu7t3kSR"
      }
    },
    {
      "cell_type": "code",
      "source": [
        "#checking duplicate data\n",
        "# duplicate_rows_df = df[df.duplicated()]\n",
        "# print(\"number of duplicate rows: \", duplicate_rows_df.shape)"
      ],
      "metadata": {
        "colab": {
          "base_uri": "https://localhost:8080/"
        },
        "id": "MFV4Y-Rs4CMW",
        "outputId": "0135293b-7a3a-4a55-dfea-3c8b52f11a02"
      },
      "execution_count": 24,
      "outputs": [
        {
          "output_type": "stream",
          "name": "stdout",
          "text": [
            "number of duplicate rows:  (2764, 8)\n"
          ]
        }
      ]
    },
    {
      "cell_type": "code",
      "source": [
        "#no of rows present in each column\n",
        "df.count()"
      ],
      "metadata": {
        "colab": {
          "base_uri": "https://localhost:8080/"
        },
        "id": "8zlBDzG55MZd",
        "outputId": "fe2a6e17-69ed-4b66-8b20-1d9e546340be"
      },
      "execution_count": 25,
      "outputs": [
        {
          "output_type": "execute_result",
          "data": {
            "text/plain": [
              "Year                      4417\n",
              "STATE_NAME                4417\n",
              "DIVISION_NAME             4417\n",
              "OFFENSE_SUBCAT_NAME       4417\n",
              "ReportedCases_Total       4417\n",
              "FakeCases_Total           4417\n",
              "CLEARED_COUNT             4417\n",
              "JUVENILE_CLEARED_COUNT    4417\n",
              "dtype: int64"
            ]
          },
          "metadata": {},
          "execution_count": 25
        }
      ]
    },
    {
      "cell_type": "code",
      "source": [
        "#checking for any missing or null values \n",
        "print(df.isnull().sum())  "
      ],
      "metadata": {
        "colab": {
          "base_uri": "https://localhost:8080/"
        },
        "id": "qdv5GuSI5c-z",
        "outputId": "c24744a2-5a46-4208-ac3b-d1af784a3b76"
      },
      "execution_count": 26,
      "outputs": [
        {
          "output_type": "stream",
          "name": "stdout",
          "text": [
            "Year                      0\n",
            "STATE_NAME                0\n",
            "DIVISION_NAME             0\n",
            "OFFENSE_SUBCAT_NAME       0\n",
            "ReportedCases_Total       0\n",
            "FakeCases_Total           0\n",
            "CLEARED_COUNT             0\n",
            "JUVENILE_CLEARED_COUNT    0\n",
            "dtype: int64\n"
          ]
        }
      ]
    },
    {
      "cell_type": "markdown",
      "source": [
        "Dataset contains no missing values."
      ],
      "metadata": {
        "id": "9VEriSNw5xO6"
      }
    },
    {
      "cell_type": "markdown",
      "source": [
        "We now take sum of all factors to do comparison for visualisation.\n"
      ],
      "metadata": {
        "id": "4UjuD7D95-XJ"
      }
    },
    {
      "cell_type": "code",
      "source": [
        "#sum of total reported cases for each state\n",
        "df_totalreported_perstate = df.groupby(by=\"STATE_NAME\")[\"ReportedCases_Total\"].sum()\n",
        "\n",
        "df_totalreported_perstate"
      ],
      "metadata": {
        "colab": {
          "base_uri": "https://localhost:8080/"
        },
        "id": "RdKMn6fY7CMs",
        "outputId": "6d07b66b-67f1-450b-e13c-fd119e34cc35"
      },
      "execution_count": 35,
      "outputs": [
        {
          "output_type": "execute_result",
          "data": {
            "text/plain": [
              "STATE_NAME\n",
              "Alaska              43\n",
              "Arizona            273\n",
              "Arkansas            19\n",
              "Colorado           276\n",
              "Connecticut         49\n",
              "Delaware            53\n",
              "Florida            640\n",
              "Georgia            276\n",
              "Hawaii              23\n",
              "Idaho               11\n",
              "Illinois           246\n",
              "Indiana             80\n",
              "Kansas               7\n",
              "Kentucky           219\n",
              "Louisiana          232\n",
              "Maine               12\n",
              "Maryland            79\n",
              "Massachusetts      153\n",
              "Michigan           183\n",
              "Minnesota          972\n",
              "Mississippi          3\n",
              "Missouri           160\n",
              "Montana             14\n",
              "Nebraska             5\n",
              "Nevada             965\n",
              "New Hampshire       11\n",
              "New Jersey          13\n",
              "New Mexico          16\n",
              "North Carolina     126\n",
              "North Dakota        37\n",
              "Ohio                41\n",
              "Oklahoma           170\n",
              "Oregon             127\n",
              "Pennsylvania         7\n",
              "Rhode Island        52\n",
              "South Carolina     136\n",
              "South Dakota         8\n",
              "Tennessee          363\n",
              "Texas             2370\n",
              "Utah               177\n",
              "Vermont             17\n",
              "Virginia           133\n",
              "Washington         258\n",
              "West Virginia      127\n",
              "Wisconsin          402\n",
              "Wyoming             15\n",
              "Name: ReportedCases_Total, dtype: int64"
            ]
          },
          "metadata": {},
          "execution_count": 35
        }
      ]
    },
    {
      "cell_type": "code",
      "source": [
        "#sum of total fake cases for each state\n",
        "df_totalfake_perstate = df.groupby(by=\"STATE_NAME\")[\"FakeCases_Total\"].sum()\n",
        "\n",
        "df_totalfake_perstate"
      ],
      "metadata": {
        "colab": {
          "base_uri": "https://localhost:8080/"
        },
        "id": "rA7lqI4x7uNf",
        "outputId": "cc177d16-42ad-4cbf-a0cc-aadea453fd12"
      },
      "execution_count": 36,
      "outputs": [
        {
          "output_type": "execute_result",
          "data": {
            "text/plain": [
              "STATE_NAME\n",
              "Alaska              1\n",
              "Arizona             8\n",
              "Arkansas            0\n",
              "Colorado            0\n",
              "Connecticut         0\n",
              "Delaware            0\n",
              "Florida           241\n",
              "Georgia             0\n",
              "Hawaii              0\n",
              "Idaho               0\n",
              "Illinois            0\n",
              "Indiana             0\n",
              "Kansas              0\n",
              "Kentucky            0\n",
              "Louisiana           0\n",
              "Maine               0\n",
              "Maryland            1\n",
              "Massachusetts       0\n",
              "Michigan            0\n",
              "Minnesota           1\n",
              "Mississippi         0\n",
              "Missouri            0\n",
              "Montana             0\n",
              "Nebraska            0\n",
              "Nevada             27\n",
              "New Hampshire       0\n",
              "New Jersey          0\n",
              "New Mexico          0\n",
              "North Carolina      0\n",
              "North Dakota        0\n",
              "Ohio                0\n",
              "Oklahoma            3\n",
              "Oregon              0\n",
              "Pennsylvania        0\n",
              "Rhode Island        0\n",
              "South Carolina      0\n",
              "South Dakota        0\n",
              "Tennessee           0\n",
              "Texas              39\n",
              "Utah                0\n",
              "Vermont             0\n",
              "Virginia            0\n",
              "Washington          0\n",
              "West Virginia       0\n",
              "Wisconsin           0\n",
              "Wyoming             0\n",
              "Name: FakeCases_Total, dtype: int64"
            ]
          },
          "metadata": {},
          "execution_count": 36
        }
      ]
    },
    {
      "cell_type": "code",
      "source": [
        "#remove\n",
        "def sum_frame_by_column(frame, new_col_name, list_of_cols_to_sum):\n",
        "    frame[new_col_name] = frame[list_of_cols_to_sum].astype(float).sum(axis=1)\n",
        "    return(frame)\n",
        "sum_frame_by_column(df, 'total', ['ReportedCases_Total','FakeCases_Total','CLEARED_COUNT','JUVENILE_CLEARED_COUNT'])\n",
        "\n",
        "df.head(5)"
      ],
      "metadata": {
        "colab": {
          "base_uri": "https://localhost:8080/",
          "height": 206
        },
        "id": "KVQMtv3T507H",
        "outputId": "e42fd6a1-4cb4-4083-96c5-823dde8959c6"
      },
      "execution_count": 28,
      "outputs": [
        {
          "output_type": "execute_result",
          "data": {
            "text/plain": [
              "   Year STATE_NAME       DIVISION_NAME    OFFENSE_SUBCAT_NAME  \\\n",
              "0  2016   Missouri  West North Central    Commercial Sex Acts   \n",
              "1  2016      Texas  West South Central  Involuntary Servitude   \n",
              "2  2016      Texas  West South Central  Involuntary Servitude   \n",
              "3  2019     Nevada            Mountain    Commercial Sex Acts   \n",
              "4  2017    Arizona            Mountain    Commercial Sex Acts   \n",
              "\n",
              "   ReportedCases_Total  FakeCases_Total  CLEARED_COUNT  \\\n",
              "0                    2                0              2   \n",
              "1                    1                0              0   \n",
              "2                    2                0              0   \n",
              "3                   15                0              4   \n",
              "4                    1                0              0   \n",
              "\n",
              "   JUVENILE_CLEARED_COUNT  total  \n",
              "0                       0    4.0  \n",
              "1                       0    1.0  \n",
              "2                       0    2.0  \n",
              "3                       0   19.0  \n",
              "4                       0    1.0  "
            ],
            "text/html": [
              "\n",
              "  <div id=\"df-e7480201-114f-49b1-8846-b32d5ae63cef\">\n",
              "    <div class=\"colab-df-container\">\n",
              "      <div>\n",
              "<style scoped>\n",
              "    .dataframe tbody tr th:only-of-type {\n",
              "        vertical-align: middle;\n",
              "    }\n",
              "\n",
              "    .dataframe tbody tr th {\n",
              "        vertical-align: top;\n",
              "    }\n",
              "\n",
              "    .dataframe thead th {\n",
              "        text-align: right;\n",
              "    }\n",
              "</style>\n",
              "<table border=\"1\" class=\"dataframe\">\n",
              "  <thead>\n",
              "    <tr style=\"text-align: right;\">\n",
              "      <th></th>\n",
              "      <th>Year</th>\n",
              "      <th>STATE_NAME</th>\n",
              "      <th>DIVISION_NAME</th>\n",
              "      <th>OFFENSE_SUBCAT_NAME</th>\n",
              "      <th>ReportedCases_Total</th>\n",
              "      <th>FakeCases_Total</th>\n",
              "      <th>CLEARED_COUNT</th>\n",
              "      <th>JUVENILE_CLEARED_COUNT</th>\n",
              "      <th>total</th>\n",
              "    </tr>\n",
              "  </thead>\n",
              "  <tbody>\n",
              "    <tr>\n",
              "      <th>0</th>\n",
              "      <td>2016</td>\n",
              "      <td>Missouri</td>\n",
              "      <td>West North Central</td>\n",
              "      <td>Commercial Sex Acts</td>\n",
              "      <td>2</td>\n",
              "      <td>0</td>\n",
              "      <td>2</td>\n",
              "      <td>0</td>\n",
              "      <td>4.0</td>\n",
              "    </tr>\n",
              "    <tr>\n",
              "      <th>1</th>\n",
              "      <td>2016</td>\n",
              "      <td>Texas</td>\n",
              "      <td>West South Central</td>\n",
              "      <td>Involuntary Servitude</td>\n",
              "      <td>1</td>\n",
              "      <td>0</td>\n",
              "      <td>0</td>\n",
              "      <td>0</td>\n",
              "      <td>1.0</td>\n",
              "    </tr>\n",
              "    <tr>\n",
              "      <th>2</th>\n",
              "      <td>2016</td>\n",
              "      <td>Texas</td>\n",
              "      <td>West South Central</td>\n",
              "      <td>Involuntary Servitude</td>\n",
              "      <td>2</td>\n",
              "      <td>0</td>\n",
              "      <td>0</td>\n",
              "      <td>0</td>\n",
              "      <td>2.0</td>\n",
              "    </tr>\n",
              "    <tr>\n",
              "      <th>3</th>\n",
              "      <td>2019</td>\n",
              "      <td>Nevada</td>\n",
              "      <td>Mountain</td>\n",
              "      <td>Commercial Sex Acts</td>\n",
              "      <td>15</td>\n",
              "      <td>0</td>\n",
              "      <td>4</td>\n",
              "      <td>0</td>\n",
              "      <td>19.0</td>\n",
              "    </tr>\n",
              "    <tr>\n",
              "      <th>4</th>\n",
              "      <td>2017</td>\n",
              "      <td>Arizona</td>\n",
              "      <td>Mountain</td>\n",
              "      <td>Commercial Sex Acts</td>\n",
              "      <td>1</td>\n",
              "      <td>0</td>\n",
              "      <td>0</td>\n",
              "      <td>0</td>\n",
              "      <td>1.0</td>\n",
              "    </tr>\n",
              "  </tbody>\n",
              "</table>\n",
              "</div>\n",
              "      <button class=\"colab-df-convert\" onclick=\"convertToInteractive('df-e7480201-114f-49b1-8846-b32d5ae63cef')\"\n",
              "              title=\"Convert this dataframe to an interactive table.\"\n",
              "              style=\"display:none;\">\n",
              "        \n",
              "  <svg xmlns=\"http://www.w3.org/2000/svg\" height=\"24px\"viewBox=\"0 0 24 24\"\n",
              "       width=\"24px\">\n",
              "    <path d=\"M0 0h24v24H0V0z\" fill=\"none\"/>\n",
              "    <path d=\"M18.56 5.44l.94 2.06.94-2.06 2.06-.94-2.06-.94-.94-2.06-.94 2.06-2.06.94zm-11 1L8.5 8.5l.94-2.06 2.06-.94-2.06-.94L8.5 2.5l-.94 2.06-2.06.94zm10 10l.94 2.06.94-2.06 2.06-.94-2.06-.94-.94-2.06-.94 2.06-2.06.94z\"/><path d=\"M17.41 7.96l-1.37-1.37c-.4-.4-.92-.59-1.43-.59-.52 0-1.04.2-1.43.59L10.3 9.45l-7.72 7.72c-.78.78-.78 2.05 0 2.83L4 21.41c.39.39.9.59 1.41.59.51 0 1.02-.2 1.41-.59l7.78-7.78 2.81-2.81c.8-.78.8-2.07 0-2.86zM5.41 20L4 18.59l7.72-7.72 1.47 1.35L5.41 20z\"/>\n",
              "  </svg>\n",
              "      </button>\n",
              "      \n",
              "  <style>\n",
              "    .colab-df-container {\n",
              "      display:flex;\n",
              "      flex-wrap:wrap;\n",
              "      gap: 12px;\n",
              "    }\n",
              "\n",
              "    .colab-df-convert {\n",
              "      background-color: #E8F0FE;\n",
              "      border: none;\n",
              "      border-radius: 50%;\n",
              "      cursor: pointer;\n",
              "      display: none;\n",
              "      fill: #1967D2;\n",
              "      height: 32px;\n",
              "      padding: 0 0 0 0;\n",
              "      width: 32px;\n",
              "    }\n",
              "\n",
              "    .colab-df-convert:hover {\n",
              "      background-color: #E2EBFA;\n",
              "      box-shadow: 0px 1px 2px rgba(60, 64, 67, 0.3), 0px 1px 3px 1px rgba(60, 64, 67, 0.15);\n",
              "      fill: #174EA6;\n",
              "    }\n",
              "\n",
              "    [theme=dark] .colab-df-convert {\n",
              "      background-color: #3B4455;\n",
              "      fill: #D2E3FC;\n",
              "    }\n",
              "\n",
              "    [theme=dark] .colab-df-convert:hover {\n",
              "      background-color: #434B5C;\n",
              "      box-shadow: 0px 1px 3px 1px rgba(0, 0, 0, 0.15);\n",
              "      filter: drop-shadow(0px 1px 2px rgba(0, 0, 0, 0.3));\n",
              "      fill: #FFFFFF;\n",
              "    }\n",
              "  </style>\n",
              "\n",
              "      <script>\n",
              "        const buttonEl =\n",
              "          document.querySelector('#df-e7480201-114f-49b1-8846-b32d5ae63cef button.colab-df-convert');\n",
              "        buttonEl.style.display =\n",
              "          google.colab.kernel.accessAllowed ? 'block' : 'none';\n",
              "\n",
              "        async function convertToInteractive(key) {\n",
              "          const element = document.querySelector('#df-e7480201-114f-49b1-8846-b32d5ae63cef');\n",
              "          const dataTable =\n",
              "            await google.colab.kernel.invokeFunction('convertToInteractive',\n",
              "                                                     [key], {});\n",
              "          if (!dataTable) return;\n",
              "\n",
              "          const docLinkHtml = 'Like what you see? Visit the ' +\n",
              "            '<a target=\"_blank\" href=https://colab.research.google.com/notebooks/data_table.ipynb>data table notebook</a>'\n",
              "            + ' to learn more about interactive tables.';\n",
              "          element.innerHTML = '';\n",
              "          dataTable['output_type'] = 'display_data';\n",
              "          await google.colab.output.renderOutput(dataTable, element);\n",
              "          const docLink = document.createElement('div');\n",
              "          docLink.innerHTML = docLinkHtml;\n",
              "          element.appendChild(docLink);\n",
              "        }\n",
              "      </script>\n",
              "    </div>\n",
              "  </div>\n",
              "  "
            ]
          },
          "metadata": {},
          "execution_count": 28
        }
      ]
    },
    {
      "cell_type": "code",
      "source": [
        "#plotting a histogram of the data’s numeric features in a grid\n",
        "df.hist(figsize=(15,15))\n",
        "plt.show()"
      ],
      "metadata": {
        "colab": {
          "base_uri": "https://localhost:8080/",
          "height": 882
        },
        "id": "VSgrkQ5V8g0p",
        "outputId": "6ee194e7-01e7-4a0f-f421-80f8a4ed9f86"
      },
      "execution_count": 37,
      "outputs": [
        {
          "output_type": "display_data",
          "data": {
            "text/plain": [
              "<Figure size 1080x1080 with 6 Axes>"
            ],
            "image/png": "[encoded data removed]"
          },
          "metadata": {}
        }
      ]
    },
    {
      "cell_type": "markdown",
      "source": [
        "Observations from above histograms:\n",
        "\n",
        "1.   Crime rate in the category of 'Human Trafficking' has increased each year.\n",
        "2.   Almost no cases were closed that involved a juvenile each year.\n",
        "3.   In most states, the no. of baseless complaints reported were zero.\n",
        "\n"
      ],
      "metadata": {
        "id": "nQFxR_rA9BAE"
      }
    },
    {
      "cell_type": "markdown",
      "source": [
        "Now before having different types of plots we will identfy and remove the outliers. It's often a good idea to detect and remove the outliers. Because outliers are one of the primary reasons for resulting in a less accurate model. The outlier detection and removing that we are going to perform is called IQR score technique."
      ],
      "metadata": {
        "id": "914zAZko98C5"
      }
    },
    {
      "cell_type": "code",
      "source": [
        "sns.boxplot(x=df['ReportedCases_Total'])"
      ],
      "metadata": {
        "colab": {
          "base_uri": "https://localhost:8080/",
          "height": 302
        },
        "id": "x0ZTKCbm-LWx",
        "outputId": "6be8aae0-3019-4695-c4cb-c4d889e88000"
      },
      "execution_count": 59,
      "outputs": [
        {
          "output_type": "execute_result",
          "data": {
            "text/plain": [
              "<matplotlib.axes._subplots.AxesSubplot at 0x7fc27c1a52d0>"
            ]
          },
          "metadata": {},
          "execution_count": 59
        },
        {
          "output_type": "display_data",
          "data": {
            "text/plain": [
              "<Figure size 432x288 with 1 Axes>"
            ],
            "image/png": "[encoded data removed]"
          },
          "metadata": {}
        }
      ]
    },
    {
      "cell_type": "code",
      "source": [
        "sns.boxplot(x=df['FakeCases_Total'])"
      ],
      "metadata": {
        "colab": {
          "base_uri": "https://localhost:8080/",
          "height": 302
        },
        "id": "rckJuBZfAdQN",
        "outputId": "eab69304-321c-46fd-e5db-b729cf3aab92"
      },
      "execution_count": 60,
      "outputs": [
        {
          "output_type": "execute_result",
          "data": {
            "text/plain": [
              "<matplotlib.axes._subplots.AxesSubplot at 0x7fc27bedf150>"
            ]
          },
          "metadata": {},
          "execution_count": 60
        },
        {
          "output_type": "display_data",
          "data": {
            "text/plain": [
              "<Figure size 432x288 with 1 Axes>"
            ],
            "image/png": "[encoded data removed]"
          },
          "metadata": {}
        }
      ]
    },
    {
      "cell_type": "code",
      "source": [
        "sns.boxplot(x=df['CLEARED_COUNT'])"
      ],
      "metadata": {
        "colab": {
          "base_uri": "https://localhost:8080/",
          "height": 302
        },
        "id": "nCx5kjzPAeQK",
        "outputId": "b1e00593-16c5-4fae-f1c9-14e7b7e8337a"
      },
      "execution_count": 61,
      "outputs": [
        {
          "output_type": "execute_result",
          "data": {
            "text/plain": [
              "<matplotlib.axes._subplots.AxesSubplot at 0x7fc27bd518d0>"
            ]
          },
          "metadata": {},
          "execution_count": 61
        },
        {
          "output_type": "display_data",
          "data": {
            "text/plain": [
              "<Figure size 432x288 with 1 Axes>"
            ],
            "image/png": "[encoded data removed]"
          },
          "metadata": {}
        }
      ]
    },
    {
      "cell_type": "code",
      "source": [
        "sns.boxplot(x=df['JUVENILE_CLEARED_COUNT'])"
      ],
      "metadata": {
        "colab": {
          "base_uri": "https://localhost:8080/",
          "height": 302
        },
        "id": "ht7EPsQ3Aezd",
        "outputId": "b395afa4-3365-42b8-f36c-fbbc2cdf9d61"
      },
      "execution_count": 62,
      "outputs": [
        {
          "output_type": "execute_result",
          "data": {
            "text/plain": [
              "<matplotlib.axes._subplots.AxesSubplot at 0x7fc27bccd810>"
            ]
          },
          "metadata": {},
          "execution_count": 62
        },
        {
          "output_type": "display_data",
          "data": {
            "text/plain": [
              "<Figure size 432x288 with 1 Axes>"
            ],
            "image/png": "[encoded data removed]"
          },
          "metadata": {}
        }
      ]
    },
    {
      "cell_type": "code",
      "source": [
        "#using IQR to remove outliers\n",
        "Q1 = df.quantile(0.25)\n",
        "Q3 = df.quantile(0.75)\n",
        "IQR = Q3 - Q1\n",
        "print(IQR)"
      ],
      "metadata": {
        "colab": {
          "base_uri": "https://localhost:8080/"
        },
        "id": "1psQ4cMSAtya",
        "outputId": "7752495a-33f8-46fb-fbac-fbc2e2bc8acb"
      },
      "execution_count": 63,
      "outputs": [
        {
          "output_type": "stream",
          "name": "stdout",
          "text": [
            "Year                      2.0\n",
            "ReportedCases_Total       1.0\n",
            "FakeCases_Total           0.0\n",
            "CLEARED_COUNT             1.0\n",
            "JUVENILE_CLEARED_COUNT    0.0\n",
            "total                     2.0\n",
            "dtype: float64\n"
          ]
        }
      ]
    },
    {
      "cell_type": "code",
      "source": [
        "#remove\n",
        "df = df[~((df < (Q1 - 1.5 * IQR)) |(df > (Q3 + 1.5 * IQR))).any(axis=1)]\n",
        "df.shape"
      ],
      "metadata": {
        "colab": {
          "base_uri": "https://localhost:8080/"
        },
        "id": "kXDpQ5LrA7K4",
        "outputId": "b61c6b54-ccc0-44e0-c03a-6385c89be598"
      },
      "execution_count": 64,
      "outputs": [
        {
          "output_type": "stream",
          "name": "stderr",
          "text": [
            "/usr/local/lib/python3.7/dist-packages/ipykernel_launcher.py:1: FutureWarning: Automatic reindexing on DataFrame vs Series comparisons is deprecated and will raise ValueError in a future version.  Do `left, right = left.align(right, axis=1, copy=False)` before e.g. `left == right`\n",
            "  \"\"\"Entry point for launching an IPython kernel.\n"
          ]
        },
        {
          "output_type": "execute_result",
          "data": {
            "text/plain": [
              "(3651, 9)"
            ]
          },
          "metadata": {},
          "execution_count": 64
        }
      ]
    },
    {
      "cell_type": "markdown",
      "source": [
        "3651 outliers (wtf?)"
      ],
      "metadata": {
        "id": "ThLOlnvgBUE2"
      }
    },
    {
      "cell_type": "code",
      "source": [
        "#finding dependent variables using heat maps. \n",
        "#one of the best way to find the relationship between the features can be done using heat maps via which we can find correlation between various factors and features. \n",
        "plt.figure(figsize=(10,5))\n",
        "c=df.corr()\n",
        "sns.heatmap(c,cmap=\"BrBG\",annot=True)\n",
        "c"
      ],
      "metadata": {
        "colab": {
          "base_uri": "https://localhost:8080/",
          "height": 689
        },
        "id": "IC-QWxKuBbmc",
        "outputId": "be7b5151-8c4b-42e9-a2c9-690d7f263f3f"
      },
      "execution_count": 65,
      "outputs": [
        {
          "output_type": "execute_result",
          "data": {
            "text/plain": [
              "                            Year  ReportedCases_Total  FakeCases_Total  \\\n",
              "Year                    1.000000            -0.053790              NaN   \n",
              "ReportedCases_Total    -0.053790             1.000000              NaN   \n",
              "FakeCases_Total              NaN                  NaN              NaN   \n",
              "CLEARED_COUNT          -0.062908             0.184218              NaN   \n",
              "JUVENILE_CLEARED_COUNT       NaN                  NaN              NaN   \n",
              "total                  -0.075820             0.770264              NaN   \n",
              "\n",
              "                        CLEARED_COUNT  JUVENILE_CLEARED_COUNT     total  \n",
              "Year                        -0.062908                     NaN -0.075820  \n",
              "ReportedCases_Total          0.184218                     NaN  0.770264  \n",
              "FakeCases_Total                   NaN                     NaN       NaN  \n",
              "CLEARED_COUNT                1.000000                     NaN  0.768707  \n",
              "JUVENILE_CLEARED_COUNT            NaN                     NaN       NaN  \n",
              "total                        0.768707                     NaN  1.000000  "
            ],
            "text/html": [
              "\n",
              "  <div id=\"df-76320050-a7f7-4bdc-8d29-f468321ff634\">\n",
              "    <div class=\"colab-df-container\">\n",
              "      <div>\n",
              "<style scoped>\n",
              "    .dataframe tbody tr th:only-of-type {\n",
              "        vertical-align: middle;\n",
              "    }\n",
              "\n",
              "    .dataframe tbody tr th {\n",
              "        vertical-align: top;\n",
              "    }\n",
              "\n",
              "    .dataframe thead th {\n",
              "        text-align: right;\n",
              "    }\n",
              "</style>\n",
              "<table border=\"1\" class=\"dataframe\">\n",
              "  <thead>\n",
              "    <tr style=\"text-align: right;\">\n",
              "      <th></th>\n",
              "      <th>Year</th>\n",
              "      <th>ReportedCases_Total</th>\n",
              "      <th>FakeCases_Total</th>\n",
              "      <th>CLEARED_COUNT</th>\n",
              "      <th>JUVENILE_CLEARED_COUNT</th>\n",
              "      <th>total</th>\n",
              "    </tr>\n",
              "  </thead>\n",
              "  <tbody>\n",
              "    <tr>\n",
              "      <th>Year</th>\n",
              "      <td>1.000000</td>\n",
              "      <td>-0.053790</td>\n",
              "      <td>NaN</td>\n",
              "      <td>-0.062908</td>\n",
              "      <td>NaN</td>\n",
              "      <td>-0.075820</td>\n",
              "    </tr>\n",
              "    <tr>\n",
              "      <th>ReportedCases_Total</th>\n",
              "      <td>-0.053790</td>\n",
              "      <td>1.000000</td>\n",
              "      <td>NaN</td>\n",
              "      <td>0.184218</td>\n",
              "      <td>NaN</td>\n",
              "      <td>0.770264</td>\n",
              "    </tr>\n",
              "    <tr>\n",
              "      <th>FakeCases_Total</th>\n",
              "      <td>NaN</td>\n",
              "      <td>NaN</td>\n",
              "      <td>NaN</td>\n",
              "      <td>NaN</td>\n",
              "      <td>NaN</td>\n",
              "      <td>NaN</td>\n",
              "    </tr>\n",
              "    <tr>\n",
              "      <th>CLEARED_COUNT</th>\n",
              "      <td>-0.062908</td>\n",
              "      <td>0.184218</td>\n",
              "      <td>NaN</td>\n",
              "      <td>1.000000</td>\n",
              "      <td>NaN</td>\n",
              "      <td>0.768707</td>\n",
              "    </tr>\n",
              "    <tr>\n",
              "      <th>JUVENILE_CLEARED_COUNT</th>\n",
              "      <td>NaN</td>\n",
              "      <td>NaN</td>\n",
              "      <td>NaN</td>\n",
              "      <td>NaN</td>\n",
              "      <td>NaN</td>\n",
              "      <td>NaN</td>\n",
              "    </tr>\n",
              "    <tr>\n",
              "      <th>total</th>\n",
              "      <td>-0.075820</td>\n",
              "      <td>0.770264</td>\n",
              "      <td>NaN</td>\n",
              "      <td>0.768707</td>\n",
              "      <td>NaN</td>\n",
              "      <td>1.000000</td>\n",
              "    </tr>\n",
              "  </tbody>\n",
              "</table>\n",
              "</div>\n",
              "      <button class=\"colab-df-convert\" onclick=\"convertToInteractive('df-76320050-a7f7-4bdc-8d29-f468321ff634')\"\n",
              "              title=\"Convert this dataframe to an interactive table.\"\n",
              "              style=\"display:none;\">\n",
              "        \n",
              "  <svg xmlns=\"http://www.w3.org/2000/svg\" height=\"24px\"viewBox=\"0 0 24 24\"\n",
              "       width=\"24px\">\n",
              "    <path d=\"M0 0h24v24H0V0z\" fill=\"none\"/>\n",
              "    <path d=\"M18.56 5.44l.94 2.06.94-2.06 2.06-.94-2.06-.94-.94-2.06-.94 2.06-2.06.94zm-11 1L8.5 8.5l.94-2.06 2.06-.94-2.06-.94L8.5 2.5l-.94 2.06-2.06.94zm10 10l.94 2.06.94-2.06 2.06-.94-2.06-.94-.94-2.06-.94 2.06-2.06.94z\"/><path d=\"M17.41 7.96l-1.37-1.37c-.4-.4-.92-.59-1.43-.59-.52 0-1.04.2-1.43.59L10.3 9.45l-7.72 7.72c-.78.78-.78 2.05 0 2.83L4 21.41c.39.39.9.59 1.41.59.51 0 1.02-.2 1.41-.59l7.78-7.78 2.81-2.81c.8-.78.8-2.07 0-2.86zM5.41 20L4 18.59l7.72-7.72 1.47 1.35L5.41 20z\"/>\n",
              "  </svg>\n",
              "      </button>\n",
              "      \n",
              "  <style>\n",
              "    .colab-df-container {\n",
              "      display:flex;\n",
              "      flex-wrap:wrap;\n",
              "      gap: 12px;\n",
              "    }\n",
              "\n",
              "    .colab-df-convert {\n",
              "      background-color: #E8F0FE;\n",
              "      border: none;\n",
              "      border-radius: 50%;\n",
              "      cursor: pointer;\n",
              "      display: none;\n",
              "      fill: #1967D2;\n",
              "      height: 32px;\n",
              "      padding: 0 0 0 0;\n",
              "      width: 32px;\n",
              "    }\n",
              "\n",
              "    .colab-df-convert:hover {\n",
              "      background-color: #E2EBFA;\n",
              "      box-shadow: 0px 1px 2px rgba(60, 64, 67, 0.3), 0px 1px 3px 1px rgba(60, 64, 67, 0.15);\n",
              "      fill: #174EA6;\n",
              "    }\n",
              "\n",
              "    [theme=dark] .colab-df-convert {\n",
              "      background-color: #3B4455;\n",
              "      fill: #D2E3FC;\n",
              "    }\n",
              "\n",
              "    [theme=dark] .colab-df-convert:hover {\n",
              "      background-color: #434B5C;\n",
              "      box-shadow: 0px 1px 3px 1px rgba(0, 0, 0, 0.15);\n",
              "      filter: drop-shadow(0px 1px 2px rgba(0, 0, 0, 0.3));\n",
              "      fill: #FFFFFF;\n",
              "    }\n",
              "  </style>\n",
              "\n",
              "      <script>\n",
              "        const buttonEl =\n",
              "          document.querySelector('#df-76320050-a7f7-4bdc-8d29-f468321ff634 button.colab-df-convert');\n",
              "        buttonEl.style.display =\n",
              "          google.colab.kernel.accessAllowed ? 'block' : 'none';\n",
              "\n",
              "        async function convertToInteractive(key) {\n",
              "          const element = document.querySelector('#df-76320050-a7f7-4bdc-8d29-f468321ff634');\n",
              "          const dataTable =\n",
              "            await google.colab.kernel.invokeFunction('convertToInteractive',\n",
              "                                                     [key], {});\n",
              "          if (!dataTable) return;\n",
              "\n",
              "          const docLinkHtml = 'Like what you see? Visit the ' +\n",
              "            '<a target=\"_blank\" href=https://colab.research.google.com/notebooks/data_table.ipynb>data table notebook</a>'\n",
              "            + ' to learn more about interactive tables.';\n",
              "          element.innerHTML = '';\n",
              "          dataTable['output_type'] = 'display_data';\n",
              "          await google.colab.output.renderOutput(dataTable, element);\n",
              "          const docLink = document.createElement('div');\n",
              "          docLink.innerHTML = docLinkHtml;\n",
              "          element.appendChild(docLink);\n",
              "        }\n",
              "      </script>\n",
              "    </div>\n",
              "  </div>\n",
              "  "
            ]
          },
          "metadata": {},
          "execution_count": 65
        },
        {
          "output_type": "display_data",
          "data": {
            "text/plain": [
              "<Figure size 720x360 with 2 Axes>"
            ],
            "image/png": "[encoded data removed]"
          },
          "metadata": {}
        }
      ]
    },
    {
      "cell_type": "code",
      "source": [
        "sns.set(style=\"ticks\", color_codes=True)\n",
        "df = df.rename(columns={\"CLEARED_COUNT\": \"CasesClosed_Total\",\"JUVENILE_CLEARED_COUNT\": \"Juvenile_CasesClosed_Total\"})\n",
        "g = sns.pairplot(df, height=20,aspect=3)\n",
        "g.fig.set_size_inches(15,15)\n",
        "plt.tight_layout()\n",
        "plt.show()"
      ],
      "metadata": {
        "colab": {
          "base_uri": "https://localhost:8080/",
          "height": 1000
        },
        "id": "rr1iUF-LBz7l",
        "outputId": "e06263be-ada4-44f3-9cb2-cf5624bb3ef9"
      },
      "execution_count": 66,
      "outputs": [
        {
          "output_type": "display_data",
          "data": {
            "text/plain": [
              "<Figure size 1080x1080 with 42 Axes>"
            ],
            "image/png": "[encoded data removed]"
          },
          "metadata": {}
        }
      ]
    },
    {
      "cell_type": "code",
      "source": [
        "df_totalreported_perstate = df.groupby(by=\"STATE_NAME\")[\"ReportedCases_Total\"].sum()\n",
        "\n",
        "r = sns.relplot(x='total', y='STATE_NAME', hue='ReportedCases_Total',data=df)\n",
        "r.fig.set_size_inches(10,25)\n",
        "r"
      ],
      "metadata": {
        "colab": {
          "base_uri": "https://localhost:8080/",
          "height": 1000
        },
        "id": "06oTmG7sCjG4",
        "outputId": "6f74b83a-2070-47fd-f0f6-d5cfd6436810"
      },
      "execution_count": 74,
      "outputs": [
        {
          "output_type": "execute_result",
          "data": {
            "text/plain": [
              "<seaborn.axisgrid.FacetGrid at 0x7fc2766f20d0>"
            ]
          },
          "metadata": {},
          "execution_count": 74
        },
        {
          "output_type": "display_data",
          "data": {
            "text/plain": [
              "<Figure size 720x1800 with 1 Axes>"
            ],
            "image/png": "[encoded data removed]"
          },
          "metadata": {}
        }
      ]
    },
    {
      "cell_type": "code",
      "source": [
        "sns.distplot(df['total'])"
      ],
      "metadata": {
        "colab": {
          "base_uri": "https://localhost:8080/",
          "height": 357
        },
        "id": "vWoWH8liDmmQ",
        "outputId": "f3fd2017-4b56-49d1-b133-084ab045d109"
      },
      "execution_count": 75,
      "outputs": [
        {
          "output_type": "stream",
          "name": "stderr",
          "text": [
            "/usr/local/lib/python3.7/dist-packages/seaborn/distributions.py:2619: FutureWarning: `distplot` is a deprecated function and will be removed in a future version. Please adapt your code to use either `displot` (a figure-level function with similar flexibility) or `histplot` (an axes-level function for histograms).\n",
            "  warnings.warn(msg, FutureWarning)\n"
          ]
        },
        {
          "output_type": "execute_result",
          "data": {
            "text/plain": [
              "<matplotlib.axes._subplots.AxesSubplot at 0x7fc2765e4ad0>"
            ]
          },
          "metadata": {},
          "execution_count": 75
        },
        {
          "output_type": "display_data",
          "data": {
            "text/plain": [
              "<Figure size 432x288 with 1 Axes>"
            ],
            "image/png": "[encoded data removed]"
          },
          "metadata": {}
        }
      ]
    },
    {
      "cell_type": "code",
      "source": [
        "sns.catplot(x='total',kind='box',data=df)"
      ],
      "metadata": {
        "colab": {
          "base_uri": "https://localhost:8080/",
          "height": 382
        },
        "id": "Czke8SpqDtYs",
        "outputId": "a5a70b57-4740-471a-f767-86f3834a6d43"
      },
      "execution_count": 76,
      "outputs": [
        {
          "output_type": "execute_result",
          "data": {
            "text/plain": [
              "<seaborn.axisgrid.FacetGrid at 0x7fc27bfeb810>"
            ]
          },
          "metadata": {},
          "execution_count": 76
        },
        {
          "output_type": "display_data",
          "data": {
            "text/plain": [
              "<Figure size 360x360 with 1 Axes>"
            ],
            "image/png": "[encoded data removed]"
          },
          "metadata": {}
        }
      ]
    },
    {
      "cell_type": "code",
      "source": [
        "#We generally use scatter plots to find the correlation between two variables. \n",
        "fig, ax = plt.subplots(figsize=(10,25))\n",
        "ax.scatter(df['total'], df['STATE_NAME'])\n",
        "ax.set_xlabel('Total Cases')\n",
        "ax.set_ylabel('Country name')\n",
        "plt.show()"
      ],
      "metadata": {
        "colab": {
          "base_uri": "https://localhost:8080/",
          "height": 1000
        },
        "id": "CUO3BbRdDxiy",
        "outputId": "672fac0b-fde5-4aa7-9369-a26c7cbd945c"
      },
      "execution_count": 77,
      "outputs": [
        {
          "output_type": "display_data",
          "data": {
            "text/plain": [
              "<Figure size 720x1800 with 1 Axes>"
            ],
            "image/png": "[encoded data removed]"
          },
          "metadata": {}
        }
      ]
    },
    {
      "cell_type": "code",
      "source": [
        "plt.barh(df['OFFENSE_SUBCAT_NAME'].value_counts().keys(), width=df['total'].mean())"
      ],
      "metadata": {
        "colab": {
          "base_uri": "https://localhost:8080/",
          "height": 285
        },
        "id": "3S9GTsA8-pJG",
        "outputId": "3f05eb9f-07e6-497e-d6e7-a5f2cb891b02"
      },
      "execution_count": 58,
      "outputs": [
        {
          "output_type": "execute_result",
          "data": {
            "text/plain": [
              "<BarContainer object of 2 artists>"
            ]
          },
          "metadata": {},
          "execution_count": 58
        },
        {
          "output_type": "display_data",
          "data": {
            "text/plain": [
              "<Figure size 432x288 with 1 Axes>"
            ],
            "image/png": "[encoded data removed]"
          },
          "metadata": {}
        }
      ]
    },
    {
      "cell_type": "markdown",
      "source": [
        "Conclusion: Hence we have successfully implemented Exploratory Data Analysis on the dataset obtained from the world happiness report. Via this experiment we were able to learn how to sort and clean the data, to identify and remove missing values. We also saw easy ways to find the total number of data samples, number of features, number of classes, number of data samples per class etc. We even performed functions to remove outliers to model our program to give more structed and accurate results. Using seaborn library we plotted different graphs to a visual relation and representation between various factors. From this data analysis we were able to infer that Iceland ranks 1 in happiness according to the factors and terms definde by the WHR (This can be observed via the scatter plot). Exploratory Data Analysis (EDA) is a way to investigate datasets and find preliminary information, insights, or uncover underlying patterns in the data. Instead of making assumptions, data can be processed in a systematic method to gain insights and make informed decisions. Some advantages of Exploratory Data Analysis include: Improve understanding of variables by extracting averages, mean, minimum, and maximum values, etc; Discover errors, outliers, and missing values in the data; Identify patterns by visualizing data in graphs such as box plots, scatter plots, and histograms. Hence, the main goal is to understand the data better and use tools effectively to gain valuable insights or draw conclusions."
      ],
      "metadata": {
        "id": "BpTqw997EBN0"
      }
    }
  ]
}